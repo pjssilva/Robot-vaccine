{
 "cells": [
  {
   "cell_type": "code",
   "execution_count": null,
   "id": "sonic-multiple",
   "metadata": {},
   "outputs": [],
   "source": [
    "import pandas as pd\n",
    "import numpy as np\n",
    "import matplotlib\n",
    "import matplotlib.pyplot as plt\n",
    "matplotlib.rcParams['axes.labelsize'] = 14\n",
    "matplotlib.rcParams['xtick.labelsize'] = 12\n",
    "matplotlib.rcParams['ytick.labelsize'] = 12\n",
    "matplotlib.rcParams['text.color'] = 'k'\n",
    "matplotlib.rcParams['figure.figsize']=(30,12)\n",
    "#plt.style.use('ggplot')\n",
    "plt.style.use('fivethirtyeight')\n",
    "#import seaborn as sns\n",
    "import warnings\n",
    "warnings.filterwarnings(\"ignore\", category=DeprecationWarning)\n",
    "import datetime \n",
    "#For time series manipulation\n",
    "#https://pythonrepo.com/repo/unit8co-darts-python-machine-learning\n",
    "#pip install 'u8darts[pmdarima]' \n",
    "from darts import TimeSeries\n",
    "from darts.models import (ARIMA,AutoARIMA)\n",
    "from darts.metrics import mape\n",
    "import logging\n",
    "logging.disable(logging.CRITICAL)\n"
   ]
  },
  {
   "cell_type": "code",
   "execution_count": null,
   "id": "elementary-smart",
   "metadata": {},
   "outputs": [],
   "source": [
    "#from https://covid.saude.rs.gov.br/\n",
    "fname='CSV/transparencia_dados_covid.csv'\n",
    "cols_data=[\"DATA INCLUSAO REGISTRO\"]\n",
    "df1 = pd.read_csv(fname, decimal=\".\",sep=\"\\t\",parse_dates=cols_data)\n",
    "#Extract region of interest\n",
    "col_reg='REGIAO COVID'\n",
    "mycol_reg='PORTO ALEGRE - R10' \n",
    "mask=df1[col_reg]==mycol_reg\n",
    "df0=df1[mask]\n",
    "#drop bunch of columns\n",
    "notNumeric=list(df0.select_dtypes(exclude=np.number))\n",
    "df0['dia']=df0[cols_data].astype('datetime64[D]') \n",
    "#the above is to identify all registers in the same day, dropping the time\n",
    "df0.drop(columns=notNumeric,inplace=True)\n",
    "notKeep=['IBGE', 'LATITUDE_MUNICIPIO', 'LONGITUDE_MUNICIPIO',\n",
    "       'CODIGO MACRORREGIAO SAUDE', 'CODIGO REGIAO COVID',\n",
    "       'CNES ESTABELECIMENTO SAUDE', 'LATITUDE_ESTABELECIMENTO',\n",
    "       'LONGITUDE_ESTABELECIMENTO']\n",
    "df0.drop(columns=notKeep,inplace=True)\n",
    "#group by day\n",
    "df=df0.groupby('dia').sum()\n"
   ]
  },
  {
   "cell_type": "code",
   "execution_count": null,
   "id": "rolled-plenty",
   "metadata": {},
   "outputs": [],
   "source": [
    "#look for ICU capacity and demand\n",
    "cols_cap=['NUMERO LEITOS UTI ADULTO (SUS  PRIVADO)','NUMERO LEITOS UTI ADULTO (SUS)']\n",
    "cols_uti=['NUMERO SUSPEITOS+CONFIRMADOS COVID-SRAG EM LEITO UTI ADULTO (SUS)']\n",
    "ts=pd.DataFrame(index=df.index)\n",
    "ts['cap']=df[cols_cap].sum(axis=1).values\n",
    "ts['uti']=df[cols_uti].sum(axis=1).values\n"
   ]
  },
  {
   "cell_type": "code",
   "execution_count": null,
   "id": "sitting-beach",
   "metadata": {},
   "outputs": [],
   "source": [
    "#from https://ti.saude.rs.gov.br/covid19/ \n",
    "fname='CSV/20210521.csv'\n",
    "cols_data=['DATA_CONFIRMACAO']\n",
    "df1 = pd.read_csv(fname, decimal=\".\",sep=\";\",parse_dates=cols_data)\n",
    "#Extract region of interest\n",
    "col_reg='REGIAO_COVID'\n",
    "mycol_reg='PORTO ALEGRE - R10' \n",
    "mask=df1[col_reg]==mycol_reg\n",
    "df0=df1[mask]\n",
    "#drop bunch of columns\n",
    "notNumeric=list(df0.select_dtypes(exclude=np.number))\n",
    "df0['Count']=1 #trick to count on the same day, keeping the same code as for the ICU data above\n",
    "df0['dia']=df0[cols_data]\n",
    "df0.drop(columns=notNumeric,inplace=True)\n",
    "df=df0.groupby('dia').sum()\n"
   ]
  },
  {
   "cell_type": "code",
   "execution_count": null,
   "id": "extended-nickel",
   "metadata": {},
   "outputs": [],
   "source": [
    "#ICU data starts later than registers of cases (ts.index[0]>df.index[0])\n",
    "ts_first=ts.index[0]\n",
    "ts['cases']=df['Count'][ts_first:]"
   ]
  },
  {
   "cell_type": "code",
   "execution_count": null,
   "id": "freelance-excitement",
   "metadata": {},
   "outputs": [],
   "source": [
    "#Rolling mean of UTI demand and cases, over WIN days\n",
    "WIN=7\n",
    "ts['uti-mean']=ts['uti'].rolling(WIN,min_periods=1).mean()\n",
    "ts['cases-mean']=ts['cases'].rolling(WIN,min_periods=1).mean()\n",
    "#Case correction considering only half cases are detected and accumulation over WIN days\n",
    "SUBNOT=2\n",
    "ts['cases-accum-corrected']=SUBNOT*ts['cases-mean'].rolling(WIN,min_periods=1).sum()\n"
   ]
  },
  {
   "cell_type": "code",
   "execution_count": null,
   "id": "subsequent-ancient",
   "metadata": {},
   "outputs": [],
   "source": [
    "#This is our history of ratios\n",
    "ts['Ratio']=ts['uti-mean']/ts['cases-accum-corrected']\n",
    "ts['Ratio'].plot(title='Ratio UTI demand')"
   ]
  },
  {
   "cell_type": "code",
   "execution_count": null,
   "id": "dress-combat",
   "metadata": {},
   "outputs": [],
   "source": [
    "#Create values to feed the timeseries method\n",
    "y=pd.DataFrame(ts['Ratio'].values,index=ts.index,columns=['Ratio']);\n",
    "series = TimeSeries.from_dataframe(y)\n",
    "#train,test=series.split_after(pd.Timestamp('20210101'))"
   ]
  },
  {
   "cell_type": "code",
   "execution_count": null,
   "id": "listed-hunter",
   "metadata": {},
   "outputs": [],
   "source": [
    "models = [AutoARIMA(),ARIMA((1,0,0))] \n",
    "backtests = [ model.historical_forecasts(series,\n",
    "                            start=.75, \n",
    "                            forecast_horizon=3)\n",
    "             for model in models]\n"
   ]
  },
  {
   "cell_type": "code",
   "execution_count": null,
   "id": "olympic-contact",
   "metadata": {},
   "outputs": [],
   "source": [
    "lproj=150\n",
    "projec = [model.predict(lproj) for model in models]"
   ]
  },
  {
   "cell_type": "code",
   "execution_count": null,
   "id": "corporate-mystery",
   "metadata": {},
   "outputs": [],
   "source": [
    "series.plot(label='Ratio historico')\n",
    "for i, m in enumerate(models):\n",
    "    err = mape(backtests[i], series)\n",
    "    backtests[i].plot(lw=3, label='{}, MAPE={:.2f}%'.format(m, err))\n",
    "    projec[i].plot(label=str(m)+' projetado', lw=3)\n",
    "    plt.title('Backtest e projecao com modelos calibrados')\n",
    "plt.legend()"
   ]
  },
  {
   "cell_type": "code",
   "execution_count": null,
   "id": "occupational-salem",
   "metadata": {},
   "outputs": [],
   "source": [
    "a_aarima = AutoARIMA()\n",
    "a_aarima.fit(series)\n",
    "\n",
    "# access callibration \n",
    "a_aarima.model.summary() #a_parameter"
   ]
  },
  {
   "cell_type": "code",
   "execution_count": null,
   "id": "careful-sugar",
   "metadata": {},
   "outputs": [],
   "source": [
    "my_arima = ARIMA((1,0,0))\n",
    "my_arima.fit(series)\n",
    "\n",
    "# access a parameter from pmdarima\n",
    "my_arima.model.summary() #a_parameter"
   ]
  },
  {
   "cell_type": "code",
   "execution_count": null,
   "id": "yellow-transsexual",
   "metadata": {},
   "outputs": [],
   "source": [
    "my_arima.model.params"
   ]
  }
 ],
 "metadata": {
  "kernelspec": {
   "display_name": "Python 3",
   "language": "python",
   "name": "python3"
  },
  "language_info": {
   "codemirror_mode": {
    "name": "ipython",
    "version": 3
   },
   "file_extension": ".py",
   "mimetype": "text/x-python",
   "name": "python",
   "nbconvert_exporter": "python",
   "pygments_lexer": "ipython3",
   "version": "3.8.10"
  }
 },
 "nbformat": 4,
 "nbformat_minor": 5
}
