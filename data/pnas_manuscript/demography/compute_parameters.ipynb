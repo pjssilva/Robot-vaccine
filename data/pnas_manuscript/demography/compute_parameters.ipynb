{
 "cells": [
  {
   "cell_type": "markdown",
   "metadata": {},
   "source": [
    "# Compute parameters needed for simulation from other datasets"
   ]
  },
  {
   "cell_type": "code",
   "execution_count": 1,
   "metadata": {},
   "outputs": [],
   "source": [
    "import pandas as pd\n",
    "import numpy as np"
   ]
  },
  {
   "cell_type": "code",
   "execution_count": 2,
   "metadata": {},
   "outputs": [],
   "source": [
    "# Set age bins\n",
    "bins = [(0, 19), (20, 49), (50, 64), (65, 200)]"
   ]
  },
  {
   "cell_type": "code",
   "execution_count": 3,
   "metadata": {},
   "outputs": [
    {
     "name": "stdout",
     "output_type": "stream",
     "text": [
      "Age distribution in the population\n",
      "0   19    0.295\n",
      "20  49    0.482\n",
      "50  64    0.144\n",
      "65  200   0.078\n",
      "Name: Population ratios, dtype: float64\n"
     ]
    }
   ],
   "source": [
    "# Compute the proportions of the population of São Paulo that belog to each bin\n",
    "census = pd.read_excel(\"distribuicao_etaria_sp_2010.xlsx\", index_col=[0])\n",
    "census[\"Total\"] = census[\"Homens\"] + census[\"Mulheres\"]\n",
    "\n",
    "# Create columns with minimal and maximal age in each bin of the original data\n",
    "def str2ages(str):\n",
    "    if str.startswith(\"Mais\"):\n",
    "        return 100, 200\n",
    "    a_loc = str.find(\" a \")\n",
    "    a = int(str[:a_loc])\n",
    "    A = int(str[a_loc + 3:a_loc + 5])\n",
    "    return(a, A)\n",
    "\n",
    "min_age, max_age = [], []\n",
    "for age in census.index:\n",
    "    a, A = str2ages(age)\n",
    "    min_age.append(a)\n",
    "    max_age.append(A)\n",
    "census[\"Min age\"] = min_age\n",
    "census[\"Max age\"] = max_age\n",
    "\n",
    "# Calculate the proportion of the population in each of the target bins\n",
    "pop_by_age = {}\n",
    "total_pop = census[\"Total\"].sum()\n",
    "for b in bins:\n",
    "    mask = np.logical_and(census[\"Min age\"] >= b[0], census[\"Max age\"] <= b[1])\n",
    "    pop_by_age[b] = census[mask][\"Total\"].sum() / total_pop\n",
    "pop_by_age = pd.Series(pop_by_age, name=\"Population ratios\")\n",
    "\n",
    "# Print the age distribution\n",
    "pd.options.display.float_format = '{:,.3f}'.format\n",
    "print(\"Age distribution in the population\")\n",
    "print(pop_by_age)"
   ]
  },
  {
   "cell_type": "markdown",
   "metadata": {},
   "source": [
    "Obs: I will add the bin (0, 19) up using 30% to add 1.0"
   ]
  },
  {
   "cell_type": "code",
   "execution_count": 4,
   "metadata": {},
   "outputs": [
    {
     "name": "stdout",
     "output_type": "stream",
     "text": [
      "ICU need by age\n",
      "0   19    0.016\n",
      "20  49    0.282\n",
      "50  64    0.297\n",
      "65  200   0.405\n",
      "Name: Age distribution, dtype: float64\n",
      "\n",
      "\n",
      "Correction factor for ICU usage\n",
      "0   19    0.055\n",
      "20  49    0.584\n",
      "50  64    2.057\n",
      "65  200   5.164\n",
      "dtype: float64\n"
     ]
    }
   ],
   "source": [
    "# Compute the age distribution of ICU demand\n",
    "icu_use = pd.read_csv(\"20210130_SRAG.csv\", sep=';', decimal=\",\", parse_dates=['Data de Notificação'])\n",
    "icu_use = icu_use[icu_use[\"OUTRAS SRAG\"] == \"COVID 19\"]\n",
    "\n",
    "icu_by_age = {}\n",
    "for b in bins:\n",
    "    low, up = b\n",
    "    icu_by_age[b] = np.logical_and(icu_use[\"Nu Idade N\"] >= low, icu_use[\"Nu Idade N\"] <= up).sum()\n",
    "icu_by_age = pd.Series(icu_by_age, name=\"Age distribution\") / len(icu_use)\n",
    "\n",
    "# Print the age ICU distribution\n",
    "print(\"ICU need by age\")\n",
    "print(icu_by_age)\n",
    "print(\"\\n\")\n",
    "\n",
    "# Now compute the ratio of ICU need by individual of each group\n",
    "print(\"Correction factor for ICU usage\")\n",
    "print(icu_by_age / pop_by_age)"
   ]
  },
  {
   "cell_type": "code",
   "execution_count": 5,
   "metadata": {},
   "outputs": [
    {
     "name": "stdout",
     "output_type": "stream",
     "text": [
      "Numero of elements of (0, 19) that (0, 19) meets is 50.98675790128427\n",
      "Numero of elements of (20, 49) that (0, 19) meets is 24.107067294185118\n",
      "Numero of elements of (50, 64) that (0, 19) meets is 9.009466158036828\n",
      "Numero of elements of (65, 200) that (0, 19) meets is 5.410516993713345\n",
      "Numero of elements of (0, 19) that (20, 49) meets is 21.061503081752065\n",
      "Numero of elements of (20, 49) that (20, 49) meets is 62.95736379317733\n",
      "Numero of elements of (50, 64) that (20, 49) meets is 16.043085058072208\n",
      "Numero of elements of (65, 200) that (20, 49) meets is 6.4292960331042375\n",
      "Numero of elements of (0, 19) that (50, 64) meets is 2.8121249425288437\n",
      "Numero of elements of (20, 49) that (50, 64) meets is 8.45247660687524\n",
      "Numero of elements of (50, 64) that (50, 64) meets is 5.035690092551668\n",
      "Numero of elements of (65, 200) that (50, 64) meets is 2.1762279491399545\n",
      "Numero of elements of (0, 19) that (65, 200) meets is 0.7317890032102449\n",
      "Numero of elements of (20, 49) that (65, 200) meets is 0.9744630634959442\n",
      "Numero of elements of (50, 64) that (65, 200) meets is 0.721464641011846\n",
      "Numero of elements of (65, 200) that (65, 200) meets is 1.575459000723825\n",
      "Absolute contact\n",
      "           0      20     50    65\n",
      "          19     49     64    200\n",
      "0  19  50.987 24.107  9.009 5.411\n",
      "20 49  21.062 62.957 16.043 6.429\n",
      "50 64   2.812  8.452  5.036 2.176\n",
      "65 200  0.732  0.974  0.721 1.575\n",
      "\n",
      "\n",
      "Relative contact\n",
      "          0     20    50    65\n",
      "         19    49    64    200\n",
      "0  19  0.570 0.269 0.101 0.060\n",
      "20 49  0.198 0.591 0.151 0.060\n",
      "50 64  0.152 0.457 0.273 0.118\n",
      "65 200 0.183 0.243 0.180 0.394\n"
     ]
    }
   ],
   "source": [
    "# Now agregate the contact matrix\n",
    "\n",
    "# Read original contact matrix. It has in C_{i, j} = number of people from group i that people\n",
    "# from group j meet each day. The sum of column of j is the number of enconters a member\n",
    "# of group j has each day. \n",
    "full_contact = pd.read_excel(\"contact_matrix.xlsx\", header=None)\n",
    "full_contact.set_index(pd.Index(list(5*full_contact.index)), inplace=True)\n",
    "full_contact.columns = list(5*full_contact.columns)\n",
    "\n",
    "# Compress the matrix to bins\n",
    "contact = {}\n",
    "for b1 in bins:\n",
    "    contact[b1] = []\n",
    "    for b2 in bins:\n",
    "        b1_mask = np.logical_and(full_contact.columns >= b1[0], full_contact.columns < b1[1])\n",
    "        b2_mask = np.logical_and(full_contact.index >= b2[0], full_contact.index < b2[1])\n",
    "        contact[b1].append(full_contact.loc[b2_mask, b1_mask].to_numpy().sum())\n",
    "        print(f\"Numero of elements of {b2} that {b1} meets is\", contact[b1][-1])\n",
    "contact = pd.DataFrame(contact, index=contact.keys())\n",
    "print(\"Absolute contact\")\n",
    "print(contact.T)\n",
    "print(\"\\n\")\n",
    "contact = contact/contact.sum()\n",
    "contact = contact.T\n",
    "print(\"Relative contact\")\n",
    "print(contact)"
   ]
  }
 ],
 "metadata": {
  "kernelspec": {
   "display_name": "Python 3",
   "language": "python",
   "name": "python3"
  },
  "language_info": {
   "codemirror_mode": {
    "name": "ipython",
    "version": 3
   },
   "file_extension": ".py",
   "mimetype": "text/x-python",
   "name": "python",
   "nbconvert_exporter": "python",
   "pygments_lexer": "ipython3",
   "version": "3.8.5"
  }
 },
 "nbformat": 4,
 "nbformat_minor": 4
}
