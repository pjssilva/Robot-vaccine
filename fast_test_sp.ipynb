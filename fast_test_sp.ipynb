{
 "cells": [
  {
   "cell_type": "markdown",
   "metadata": {},
   "source": [
    "# Case studies for Robot Test paper"
   ]
  },
  {
   "cell_type": "code",
   "execution_count": 3,
   "metadata": {
    "tags": []
   },
   "outputs": [
    {
     "name": "stdout",
     "output_type": "stream",
     "text": [
      "Loading modules...\n",
      "Loading modules... Ok!\n",
      "Loading Julia library...\n",
      "Loading Julia library... Ok!\n",
      "Loading Robot-dance Julia module...\n",
      "Loading Robot-dance Julia module... Ok!\n",
      "Loading Julia library...\n",
      "Loading Julia library... Ok!\n",
      "Loading Robot-dance Julia module...\n",
      "Loading Robot-dance Julia module... Ok!\n",
      "Loading Julia library...\n",
      "Loading Julia library... Ok!\n",
      "Loading Robot-dance Julia module...\n",
      "Loading Robot-dance Julia module... Ok!\n",
      "Loading modules...\n",
      "Loading modules... Ok!\n",
      "Loading Julia library...\n",
      "Loading Julia library... Ok!\n",
      "Loading Robot-dance Julia module...\n",
      "Loading Robot-dance Julia module... Ok!\n"
     ]
    },
    {
     "data": {
      "text/plain": [
       "<module 'run_robot' from '/Users/mmc/Dropbox/covid/Robot-vaccine/run_robot.py'>"
      ]
     },
     "execution_count": 3,
     "metadata": {},
     "output_type": "execute_result"
    }
   ],
   "source": [
    "import os\n",
    "import pandas as pd\n",
    "import numpy as np\n",
    "import datetime\n",
    "import itertools\n",
    "import matplotlib.pylab as plt\n",
    "from matplotlib import rc\n",
    "rc(\"text\", usetex=True)\n",
    "rc(\"font\", family=\"serif\")\n",
    "\n",
    "import run_robot\n",
    "import prepare_data\n",
    "from importlib import reload\n",
    "reload(prepare_data)\n",
    "reload(run_robot)"
   ]
  },
  {
   "cell_type": "code",
   "execution_count": 4,
   "metadata": {
    "tags": []
   },
   "outputs": [
    {
     "name": "stdout",
     "output_type": "stream",
     "text": [
      "\n",
      " 1/1 SP                             Mean effective R in the last two weeks = 1.20\n"
     ]
    },
    {
     "data": {
      "text/html": [
       "<div>\n",
       "<style scoped>\n",
       "    .dataframe tbody tr th:only-of-type {\n",
       "        vertical-align: middle;\n",
       "    }\n",
       "\n",
       "    .dataframe tbody tr th {\n",
       "        vertical-align: top;\n",
       "    }\n",
       "\n",
       "    .dataframe thead th {\n",
       "        text-align: right;\n",
       "    }\n",
       "</style>\n",
       "<table border=\"1\" class=\"dataframe\">\n",
       "  <thead>\n",
       "    <tr style=\"text-align: right;\">\n",
       "      <th></th>\n",
       "      <th>S1</th>\n",
       "      <th>E1</th>\n",
       "      <th>I1</th>\n",
       "      <th>R1</th>\n",
       "      <th>population</th>\n",
       "      <th>icu_capacity</th>\n",
       "      <th>start_date</th>\n",
       "    </tr>\n",
       "  </thead>\n",
       "  <tbody>\n",
       "    <tr>\n",
       "      <th>SP</th>\n",
       "      <td>0.793887</td>\n",
       "      <td>0.014989</td>\n",
       "      <td>0.007001</td>\n",
       "      <td>0.184123</td>\n",
       "      <td>11869660.0</td>\n",
       "      <td>0.000289</td>\n",
       "      <td>2020-07-29</td>\n",
       "    </tr>\n",
       "  </tbody>\n",
       "</table>\n",
       "</div>"
      ],
      "text/plain": [
       "          S1        E1        I1        R1  population  icu_capacity  \\\n",
       "SP  0.793887  0.014989  0.007001  0.184123  11869660.0      0.000289   \n",
       "\n",
       "    start_date  \n",
       "SP  2020-07-29  "
      ]
     },
     "execution_count": 4,
     "metadata": {},
     "output_type": "execute_result"
    }
   ],
   "source": [
    "basic_prm = prepare_data.save_basic_parameters(min_level=0.8, rep=2.5, ndays=30)\n",
    "subnot_factor = 11.6\n",
    "cities_data = prepare_data.compute_initial_condition_evolve_and_save(basic_prm, \"SP\", [\"SP\"], 10000000, subnot_factor, 1, \"data/report_covid_with_drs_07_29.csv\")\n",
    "cities_data"
   ]
  },
  {
   "cell_type": "code",
   "execution_count": 5,
   "metadata": {},
   "outputs": [
    {
     "data": {
      "text/html": [
       "<div>\n",
       "<style scoped>\n",
       "    .dataframe tbody tr th:only-of-type {\n",
       "        vertical-align: middle;\n",
       "    }\n",
       "\n",
       "    .dataframe tbody tr th {\n",
       "        vertical-align: top;\n",
       "    }\n",
       "\n",
       "    .dataframe thead th {\n",
       "        text-align: right;\n",
       "    }\n",
       "</style>\n",
       "<table border=\"1\" class=\"dataframe\">\n",
       "  <thead>\n",
       "    <tr style=\"text-align: right;\">\n",
       "      <th></th>\n",
       "      <th>S1</th>\n",
       "      <th>E1</th>\n",
       "      <th>I1</th>\n",
       "      <th>R1</th>\n",
       "      <th>population</th>\n",
       "      <th>icu_capacity</th>\n",
       "      <th>start_date</th>\n",
       "    </tr>\n",
       "  </thead>\n",
       "  <tbody>\n",
       "    <tr>\n",
       "      <th>SP</th>\n",
       "      <td>0.793887</td>\n",
       "      <td>0.014989</td>\n",
       "      <td>0.007001</td>\n",
       "      <td>0.184123</td>\n",
       "      <td>11869660.0</td>\n",
       "      <td>0.000289</td>\n",
       "      <td>2020-07-29</td>\n",
       "    </tr>\n",
       "  </tbody>\n",
       "</table>\n",
       "</div>"
      ],
      "text/plain": [
       "          S1        E1        I1        R1  population  icu_capacity  \\\n",
       "SP  0.793887  0.014989  0.007001  0.184123  11869660.0      0.000289   \n",
       "\n",
       "    start_date  \n",
       "SP  2020-07-29  "
      ]
     },
     "execution_count": 5,
     "metadata": {},
     "output_type": "execute_result"
    }
   ],
   "source": [
    "# Create a target matrix (max infected level)\n",
    "ncities, ndays = len(cities_data.index), int(basic_prm[\"ndays\"])\n",
    "target = 0.8*np.ones((ncities, ndays))\n",
    "target = prepare_data.save_target(cities_data, target)\n",
    "\n",
    "# Use a forcedif that releases the cities in the end\n",
    "force_dif = np.ones((ncities, ndays))\n",
    "cities_data"
   ]
  },
  {
   "cell_type": "markdown",
   "metadata": {},
   "source": [
    "## Add information on the time series that estimate the need of ICUs\n",
    "\n",
    "We are using the time series adjusted considering that the mean ICU stay is 7 days (which lead to larger ICU capacity)."
   ]
  },
  {
   "cell_type": "code",
   "execution_count": 7,
   "metadata": {},
   "outputs": [
    {
     "data": {
      "text/html": [
       "<div>\n",
       "<style scoped>\n",
       "    .dataframe tbody tr th:only-of-type {\n",
       "        vertical-align: middle;\n",
       "    }\n",
       "\n",
       "    .dataframe tbody tr th {\n",
       "        vertical-align: top;\n",
       "    }\n",
       "\n",
       "    .dataframe thead th {\n",
       "        text-align: right;\n",
       "    }\n",
       "</style>\n",
       "<table border=\"1\" class=\"dataframe\">\n",
       "  <thead>\n",
       "    <tr style=\"text-align: right;\">\n",
       "      <th></th>\n",
       "      <th>S1</th>\n",
       "      <th>E1</th>\n",
       "      <th>I1</th>\n",
       "      <th>R1</th>\n",
       "      <th>population</th>\n",
       "      <th>icu_capacity</th>\n",
       "      <th>start_date</th>\n",
       "      <th>rho_min</th>\n",
       "      <th>rho_max</th>\n",
       "      <th>intercept</th>\n",
       "      <th>trend</th>\n",
       "      <th>phi_1</th>\n",
       "      <th>phi_2</th>\n",
       "      <th>sigma_omega</th>\n",
       "      <th>state0</th>\n",
       "      <th>state_less_1</th>\n",
       "      <th>confidence</th>\n",
       "      <th>time_icu</th>\n",
       "    </tr>\n",
       "  </thead>\n",
       "  <tbody>\n",
       "    <tr>\n",
       "      <th>SP</th>\n",
       "      <td>0.793887</td>\n",
       "      <td>0.014989</td>\n",
       "      <td>0.007001</td>\n",
       "      <td>0.184123</td>\n",
       "      <td>11869660.0</td>\n",
       "      <td>0.000289</td>\n",
       "      <td>2020-07-29</td>\n",
       "      <td>0.010999</td>\n",
       "      <td>0.02236</td>\n",
       "      <td>0.003703</td>\n",
       "      <td>0.0</td>\n",
       "      <td>1.791196</td>\n",
       "      <td>-0.805529</td>\n",
       "      <td>0.01844</td>\n",
       "      <td>0.011645</td>\n",
       "      <td>0.011221</td>\n",
       "      <td>0.9</td>\n",
       "      <td>7</td>\n",
       "    </tr>\n",
       "  </tbody>\n",
       "</table>\n",
       "</div>"
      ],
      "text/plain": [
       "          S1        E1        I1        R1  population  icu_capacity  \\\n",
       "SP  0.793887  0.014989  0.007001  0.184123  11869660.0      0.000289   \n",
       "\n",
       "    start_date   rho_min  rho_max  intercept  trend     phi_1     phi_2  \\\n",
       "SP  2020-07-29  0.010999  0.02236   0.003703    0.0  1.791196 -0.805529   \n",
       "\n",
       "    sigma_omega    state0  state_less_1  confidence  time_icu  \n",
       "SP      0.01844  0.011645      0.011221         0.9         7  "
      ]
     },
     "execution_count": 7,
     "metadata": {},
     "output_type": "execute_result"
    }
   ],
   "source": [
    "if basic_prm[\"time_icu\"] == 11:\n",
    "    # Time series adjusted considering the mean ICU time is 11 days\n",
    "    ts_sp = np.array([0.0074335, 0.01523406, -0.00186355, 0.0, 1.67356018, -0.68192908, np.sqrt(0.00023883),\n",
    "        0.007682840158843, 0.007536060983504])\n",
    "    ts_notsp = np.array([0.00520255, 0.01532709, 0.00044498, 0.0, 1.75553282, -0.76360711, np.sqrt(3.567E-05),\n",
    "        0.005426447471187, 0.005282217308748])\n",
    "elif basic_prm[\"time_icu\"] == 7:\n",
    "    # Time series adjusted considering the mean ICU time is 7 days\n",
    "    ts_sp = np.array([0.01099859, 0.02236023, 0.00370254, 0.0, 1.79119571, -0.80552926, np.sqrt(0.00034005),\n",
    "        0.011644768910252, 0.011221496171591])\n",
    "    ts_notsp = np.array([0.0076481, 0.0218084, 0.00367839, 0.0, 1.81361379, -0.82550856, np.sqrt(8.028E-05),\n",
    "        0.007907216664912, 0.007721801045322])\n",
    "else:\n",
    "    raise NotImplementedError\n",
    "\n",
    "ts_drs = np.ones((len(cities_data), len(ts_notsp)))\n",
    "ts_drs *= ts_notsp\n",
    "ts_drs[0, :] = ts_sp\n",
    "ts_drs = pd.DataFrame(data=ts_drs, index=cities_data.index, columns=[\n",
    "    \"rho_min\", \"rho_max\", \"intercept\", \"trend\", \"phi_1\", \"phi_2\", \"sigma_omega\", \"state0\", \"state_less_1\"\n",
    "])\n",
    "ts_drs[\"confidence\"] = 0.9\n",
    "ts_drs[\"time_icu\"] = basic_prm[\"time_icu\"]\n",
    "cities_data = pd.concat([cities_data, ts_drs], axis=1)\n",
    "cities_data\n"
   ]
  },
  {
   "cell_type": "code",
   "execution_count": 8,
   "metadata": {},
   "outputs": [],
   "source": [
    "pd.set_option(\"display.width\", 120)\n",
    "\n",
    "# Simple function to run a test and save results\n",
    "def run_a_test(basic_prm, result_file, figure_file, cities_data, M, target, force_dif, pools=None, budget=0, tests_off=np.zeros(0, int), tau=3, test_efficacy=0.8, daily_tests=0, proportional_tests=False, verbosity=1):\n",
    "    run_robot.prepare_optimization(basic_prm, cities_data, M, target, hammer_data, force_dif, pools, \n",
    "        verbosity=verbosity, test_budget=budget, tests_off=tests_off, tau=tau, test_efficacy=test_efficacy, \n",
    "        daily_tests=daily_tests, proportional_tests=proportional_tests)\n",
    "    run_robot.optimize_and_show_results(basic_prm, figure_file, result_file, cities_data, target, verbosity=verbosity)\n",
    "    "
   ]
  },
  {
   "cell_type": "code",
   "execution_count": 10,
   "metadata": {
    "tags": []
   },
   "outputs": [
    {
     "name": "stdout",
     "output_type": "stream",
     "text": [
      "Checking if initial hammer is long enough...\n",
      "\n",
      "Number of iterations: 2\n",
      "Total time: 0.026253970000027493 s\n",
      "\n",
      "Hammer data\n",
      "    duration  level\n",
      "SP        14    0.8\n",
      "Checking if initial hammer is long enough... Ok!\n"
     ]
    }
   ],
   "source": [
    "# Define mobility matrix.\n",
    "M = prepare_data.convert_mobility_matrix_and_save(cities_data, max_neighbors=5, drs=\"data/report_drs_mobility.csv\")\n",
    "hammer_data = prepare_data.save_hammer_data(cities_data, 0, basic_prm[\"min_level\"])\n",
    "run_robot.find_feasible_hammer(basic_prm, cities_data, M, target, hammer_data, out_file=None, \n",
    "    incr_all=True, verbosity=1)\n"
   ]
  },
  {
   "cell_type": "code",
   "execution_count": 11,
   "metadata": {},
   "outputs": [],
   "source": [
    "all_tau = [3]\n",
    "all_test_efficacy = [0.8]\n",
    "all_daily_tests = [30000] #[30000] , 50000]\n",
    "all_budgets = [20000000] #[0, 5000000, 10000000, 20000000]"
   ]
  },
  {
   "cell_type": "markdown",
   "metadata": {},
   "source": [
    "## Case 1: Optimal tests"
   ]
  },
  {
   "cell_type": "code",
   "execution_count": 12,
   "metadata": {
    "tags": []
   },
   "outputs": [
    {
     "name": "stdout",
     "output_type": "stream",
     "text": [
      "******************** Running tau = 3 test_effic = 0.8 daily tests = 30000 budget = 20000000\n",
      "Solving Robot-dance...\n",
      "Solving Robot-dance... Ok!\n",
      "Total tests used 0.0\n",
      "Saving output files...\n",
      "Saving output files... Ok!\n",
      "Plotting result...\n",
      "Plotting result... OK!\n",
      "Solving Robot-dance...\n",
      "Solving Robot-dance... Ok!\n",
      "Total tests used 0.0\n",
      "Saving output files...\n",
      "Saving output files... Ok!\n",
      "Plotting result...\n",
      "Plotting result... OK!\n"
     ]
    }
   ],
   "source": [
    "budget0_run = False\n",
    "for tau, test_efficacy, daily_tests, budget in itertools.product(all_tau, all_test_efficacy, all_daily_tests, all_budgets):\n",
    "\n",
    "    if budget == 0 and budget0_run:\n",
    "        continue\n",
    "\n",
    "    print(\"******************** Running tau =\", tau, \"test_effic =\", test_efficacy, \"daily tests =\", daily_tests, \"budget =\", budget)\n",
    "    \n",
    "    # Case 1 Optimal tests\n",
    "    basic_prm[\"alternate\"] = 0.0\n",
    "    tests_off = np.zeros(0, int)\n",
    "    result_file =  f\"results/optimal_tests_budget_{budget:d}_daily_{daily_tests:d}_tau_{tau:d}_test_ef_{test_efficacy:f}.csv\"\n",
    "    figure_file = f\"results/optimal_tests_budget_{budget:d}_daily_{daily_tests:d}_tau_{tau:d}_test_ef_{test_efficacy:f}.png\"\n",
    "    run_a_test(basic_prm, result_file, figure_file, cities_data, M, target, force_dif, None, budget, tests_off, \n",
    "        tau, test_efficacy, daily_tests);\n",
    "    budget0_run = True\n",
    "\n",
    "    if budget == 0:\n",
    "        continue\n",
    "\n",
    "    # Case 4 \n",
    "    basic_prm[\"alternate\"] = 0.0\n",
    "    tests_off = np.zeros(0, int)\n",
    "    result_file =  f\"results/proportional_tests_budget_{budget:d}_daily_{daily_tests:d}_tau_{tau:d}_test_ef_{test_efficacy:f}.csv\"\n",
    "    figure_file = f\"results/proportional_tests__budget_{budget:d}_daily_{daily_tests:d}_tau_{tau:d}_test_ef_{test_efficacy:f}.png\"\n",
    "    run_a_test(basic_prm, result_file, figure_file, cities_data, M, target, force_dif, None, budget, tests_off,\n",
    "        tau, test_efficacy, daily_tests, True);\n",
    "    \n",
    "    plt.close(\"all\")\n"
   ]
  },
  {
   "cell_type": "code",
   "execution_count": null,
   "metadata": {},
   "outputs": [],
   "source": []
  }
 ],
 "metadata": {
  "kernelspec": {
   "display_name": "Python 3",
   "language": "python",
   "name": "python3"
  },
  "language_info": {
   "codemirror_mode": {
    "name": "ipython",
    "version": 3
   },
   "file_extension": ".py",
   "mimetype": "text/x-python",
   "name": "python",
   "nbconvert_exporter": "python",
   "pygments_lexer": "ipython3",
   "version": "3.8.2"
  }
 },
 "nbformat": 4,
 "nbformat_minor": 4
}
