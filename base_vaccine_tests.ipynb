{
 "cells": [
  {
   "cell_type": "markdown",
   "metadata": {},
   "source": [
    "# Case study for Robot Vaccine: SP"
   ]
  },
  {
   "cell_type": "code",
   "execution_count": null,
   "metadata": {
    "hide": true,
    "jupyter": {
     "outputs_hidden": true,
     "source_hidden": true
    },
    "tags": []
   },
   "outputs": [],
   "source": [
    "import os\n",
    "import pandas as pd\n",
    "import numpy as np\n",
    "import datetime\n",
    "import itertools\n",
    "import matplotlib.pylab as plt\n",
    "from matplotlib import rc\n",
    "rc(\"text\", usetex=True)\n",
    "rc(\"font\", family=\"serif\")\n",
    "\n",
    "import run_robot\n",
    "import prepare_data\n",
    "from importlib import reload\n",
    "reload(prepare_data)\n",
    "reload(run_robot)"
   ]
  },
  {
   "cell_type": "code",
   "execution_count": null,
   "metadata": {
    "jupyter": {
     "outputs_hidden": true,
     "source_hidden": true
    },
    "tags": []
   },
   "outputs": [],
   "source": [
    "# Define the basic data for the case studies\n",
    "\n",
    "# Mean incubation time\n",
    "tinc = 5.2\n",
    "\n",
    "# Mean inffectious time\n",
    "tinf = 2.9\n",
    "\n",
    "# Basic reproduction number\n",
    "basic_rep = 2.5\n",
    "\n",
    "# Lockdown level\n",
    "lock_level = 1.0\n",
    "\n",
    "# Simulation horizon\n",
    "# A little more than a year when thevaccine should be here\n",
    "ndays = 7*52\n",
    "\n",
    "# Mean time in ICU\n",
    "time_icu = 7\n",
    "\n",
    "# Transmission/infection effect of the vaccine \n",
    "r_atten = [1.0, 0.24, 0.176]\n",
    "\n",
    "# Symptoms effect of the vaccine\n",
    "icu_atten = [1.0, 1.0, 1.0]\n",
    "\n",
    "# R0 factor for each population\n",
    "r0pop = [1.0, 1.3, 1.0, 1.0]\n",
    "\n",
    "# Max dose profile\n",
    "max_doses = 0.015*np.ones(ndays)\n",
    "max_doses[0:30] = 0.001\n",
    "max_doses[3:150] = 0.005\n",
    "\n",
    "# Define basic paramters\n",
    "basic_prm = prepare_data.save_basic_parameters(tinc=tinc, tinf=tinf, rep=basic_rep, min_level=lock_level,\n",
    "    time_icu=time_icu, alternate=0, window=14, ndays=ndays)\n",
    "\n",
    "pre_cities_data = {\n",
    "    \"S1\": [0.685], \n",
    "    \"E1\": [0.01], \n",
    "    \"I1\": [0.006], \n",
    "    \"R1\": [0.299], \n",
    "    \"population\": [44639899], \n",
    "    \"icu_capacity\": [0.000175], \n",
    "    \"start_date\": [pd.to_datetime(\"2020-2-1\")]\n",
    "}\n",
    "cities_data = pd.DataFrame(pre_cities_data, index=[\"SP\"])\n",
    "cities_data"
   ]
  },
  {
   "cell_type": "code",
   "execution_count": null,
   "metadata": {
    "jupyter": {
     "source_hidden": true
    }
   },
   "outputs": [],
   "source": [
    "# Create a target matrix (max infected level)\n",
    "ncities, ndays = len(cities_data.index), int(basic_prm[\"ndays\"])\n",
    "target = 0.8*np.ones((ncities, ndays))\n",
    "target = prepare_data.save_target(cities_data, target)\n",
    "\n",
    "# Use a forcedif that releases the cities in the end\n",
    "force_dif = np.zeros((ncities, ndays))"
   ]
  },
  {
   "cell_type": "code",
   "execution_count": null,
   "metadata": {
    "jupyter": {
     "outputs_hidden": true,
     "source_hidden": true
    }
   },
   "outputs": [],
   "source": [
    "# Add information on the time series that estimate the need of ICUs\n",
    "# We are using the time series adjusted considering that the mean ICU stay is 7 days (which lead to larger ICU capacity).\n",
    "\n",
    "# Define the time series to estimate ICU demand\n",
    "ts_sp = np.array([0.009, 0.015, 0.492, 0.0, 0.0, 0.0, 0.083, 0.011, 0.011])\n",
    "\n",
    "ts_drs = ts_sp*np.ones((len(cities_data), len(ts_sp)))\n",
    "ts_drs = pd.DataFrame(data=ts_drs, index=cities_data.index, columns=[\n",
    "    \"rho_min\", \"rho_max\", \"intercept\", \"trend\", \"phi_1\", \"phi_2\", \"sigma_omega\", \"state0\", \"state_less_1\"\n",
    "])\n",
    "ts_drs[\"confidence\"] = 0.9\n",
    "ts_drs[\"time_icu\"] = time_icu\n",
    "cities_data = pd.concat([cities_data, ts_drs], axis=1)\n",
    "cities_data"
   ]
  },
  {
   "cell_type": "code",
   "execution_count": null,
   "metadata": {
    "jupyter": {
     "source_hidden": true
    }
   },
   "outputs": [],
   "source": [
    "pd.set_option(\"display.width\", 120)\n",
    "\n",
    "# Simple function to run a test and save results\n",
    "def run_a_test(basic_prm, result_file, figure_file, cities_data, M, target, force_dif, r0factor, r_atten, icu_atten, max_doses, verbosity=1):\n",
    "    run_robot.prepare_optimization(basic_prm, cities_data, M, target, hammer_data, force_dif,\n",
    "        r0factor, r_atten, icu_atten, max_doses, verbosity=verbosity)\n",
    "    run_robot.optimize_and_show_results(basic_prm, figure_file, result_file, cities_data, target, verbosity=verbosity)"
   ]
  },
  {
   "cell_type": "code",
   "execution_count": null,
   "metadata": {
    "jupyter": {
     "outputs_hidden": true,
     "source_hidden": true
    },
    "tags": []
   },
   "outputs": [],
   "source": [
    "# Define mobility matrix.\n",
    "M = prepare_data.convert_mobility_matrix_and_save(cities_data, max_neighbors=5, drs=\"data/report_drs_mobility.csv\")\n",
    "hammer_data = prepare_data.save_hammer_data(cities_data, 0, basic_prm[\"min_level\"])\n",
    "run_robot.find_feasible_hammer(basic_prm, cities_data, M, target, hammer_data, out_file=None, \n",
    "    incr_all=True, verbosity=1)\n",
    "M"
   ]
  },
  {
   "cell_type": "code",
   "execution_count": null,
   "metadata": {},
   "outputs": [],
   "source": [
    "def agregate(solution, labels):\n",
    "    values = solution.loc[labels[0]].sum()\n",
    "    for i in range(1, len(labels)):\n",
    "        values += solution.loc[labels[i]].sum()\n",
    "    return values"
   ]
  },
  {
   "cell_type": "markdown",
   "metadata": {},
   "source": [
    "## Without vacination "
   ]
  },
  {
   "cell_type": "code",
   "execution_count": null,
   "metadata": {
    "jupyter": {
     "outputs_hidden": true,
     "source_hidden": true
    },
    "tags": []
   },
   "outputs": [],
   "source": [
    "# Obs: Set max_doses to 0 in robot_dance.jl before running this cell.\n",
    "\n",
    "reload(run_robot)\n",
    "print(\"******************** Running vaccine simulation\")\n",
    "\n",
    "# Case 1 Optimal tests\n",
    "basic_prm[\"alternate\"] = 0.0\n",
    "base_name = f\"results/without_vaccine_profile\"\n",
    "result_file = base_name + \".csv\"\n",
    "run_a_test(basic_prm, result_file, \"\", cities_data, M, target, force_dif, r0pop, r_atten, icu_atten, np.zeros(ndays));"
   ]
  },
  {
   "cell_type": "code",
   "execution_count": null,
   "metadata": {
    "jupyter": {
     "source_hidden": true
    }
   },
   "outputs": [],
   "source": [
    "solution = pd.read_csv(result_file, index_col=[0, 1, 2])\n",
    "\n",
    "i = agregate(solution, [\"i\", \"ir\"])\n",
    "rt = solution.loc[\"rt\", -1, -1]\n",
    "run_robot.plot_result(\"SP\", basic_prm, rt, i, hammer_data[\"duration\"], start_date=\"2020-02-01\")\n",
    "plt.savefig(base_name + \"_profile.png\")"
   ]
  },
  {
   "cell_type": "markdown",
   "metadata": {},
   "source": [
    "Without vacination the epidemic will last until mid September what it recedes due to herd immunity. The social distancing measures are gradually relaxed."
   ]
  },
  {
   "cell_type": "markdown",
   "metadata": {},
   "source": [
    "## With vacination blocking infection"
   ]
  },
  {
   "cell_type": "code",
   "execution_count": null,
   "metadata": {
    "jupyter": {
     "outputs_hidden": true,
     "source_hidden": true
    }
   },
   "outputs": [],
   "source": [
    "reload(run_robot)\n",
    "\n",
    "r_atten = [1.0, 0.24, 0.176]\n",
    "icu_atten = [1.0, 1.0, 1.0]\n",
    "max_doses[0:30] = 0.001\n",
    "print(\"******************** Running vaccine simulation\")\n",
    "\n",
    "# Case 1 Optimal tests\n",
    "basic_prm[\"alternate\"] = 0.0\n",
    "base_name = f\"results/vaccine_infection\"\n",
    "result_file = base_name + \".csv\"\n",
    "run_a_test(basic_prm, result_file, \"\", cities_data, M, target, force_dif, r0pop, r_atten, icu_atten, max_doses);"
   ]
  },
  {
   "cell_type": "code",
   "execution_count": null,
   "metadata": {
    "jupyter": {
     "source_hidden": true
    }
   },
   "outputs": [],
   "source": [
    "solution = pd.read_csv(result_file, index_col=[0, 1, 2])\n",
    "i = agregate(solution, [\"i\", \"ir\"])\n",
    "rt = solution.loc[\"rt\", -1, -1]\n",
    "run_robot.plot_result(\"SP\", basic_prm, rt, i, hammer_data[\"duration\"], start_date=\"2020-02-01\")\n",
    "plt.savefig(base_name + \"_profile.png\")"
   ]
  },
  {
   "cell_type": "markdown",
   "metadata": {},
   "source": [
    "With vaccination the epidemic ends by June. The need for social distancing end in the start of May, from there on the control is based on vaccines only."
   ]
  },
  {
   "cell_type": "code",
   "execution_count": null,
   "metadata": {
    "jupyter": {
     "source_hidden": true
    }
   },
   "outputs": [],
   "source": [
    "import warnings\n",
    "warnings.simplefilter(action='ignore', category=FutureWarning)\n",
    "\n",
    "bins = [[0, 19], [20, 49], [50, 64], [65, 200]]\n",
    "colors = [\"C0\", \"C1\", \"C2\", \"C3\"]\n",
    "\n",
    "def retrieve_vaccination_profile(sol, pop=0, dose=0):\n",
    "    sol = sol.loc[:, pop, :]\n",
    "    seir = sol.loc[\"s\", :] + sol.loc[\"e\", :] + sol.loc[\"i\", :] + sol.loc[\"r\", :]\n",
    "    applied = sol.loc[\"v\", dose]*seir.loc[dose]\n",
    "    return applied[14:]"
   ]
  },
  {
   "cell_type": "code",
   "execution_count": null,
   "metadata": {
    "jupyter": {
     "source_hidden": true
    }
   },
   "outputs": [],
   "source": [
    "for i in range(len(bins)):\n",
    "    retrieve_vaccination_profile(solution, i, 0).plot(lw=3, color=colors[i], alpha=0.7, label=f\"{bins[i]}, dose 1\")\n",
    "    retrieve_vaccination_profile(solution, i, 1).plot(lw=3, alpha=0.7, color=colors[i], ls=\"--\", label=f\"{bins[i]}, dose 2\")\n",
    "ticks = range(0, solution.loc[\"s\", 0, 0, :].shape[1], 28)\n",
    "plt.xticks(ticks, ticks)\n",
    "plt.legend()\n",
    "plt.title(\"Vaccination\")\n",
    "plt.savefig(base_name + \"_vaccines.png\")"
   ]
  },
  {
   "cell_type": "code",
   "execution_count": null,
   "metadata": {
    "jupyter": {
     "source_hidden": true
    }
   },
   "outputs": [],
   "source": [
    "total_dose1 = retrieve_vaccination_profile(solution, 0, 0)\n",
    "for i in range(1, len(bins)):\n",
    "    total_dose1 += retrieve_vaccination_profile(solution, i, 0)\n",
    "total_dose2 = retrieve_vaccination_profile(solution, 0, 1)\n",
    "for i in range(1, len(bins)):\n",
    "    total_dose2 += retrieve_vaccination_profile(solution, i, 1)\n",
    "total_dose1.plot(lw=3, alpha=0.7, label=\"Total dose 1\")\n",
    "total_dose2.plot(lw=3, ls=\"--\", alpha=0.7, label=\"Total dose 2\")\n",
    "both = total_dose1 + total_dose2 \n",
    "both.plot(lw=3, alpha=0.3, label=\"Both doses\")\n",
    "plt.xticks(ticks, ticks)\n",
    "plt.legend()\n",
    "plt.title(\"Total daily vaccination\");\n",
    "print(\"Total doses\", sum(both))\n",
    "plt.savefig(base_name + \"_total_vaccines.png\")"
   ]
  },
  {
   "cell_type": "markdown",
   "metadata": {},
   "source": [
    "In this case the second dose is postponed to the 84th day (the maximum allowed). The first group to be vaccinated is 65+, followed by a periodo anternating between 20+ (that has a higher R0) and 50+. 65+ gets the second dose before the epidemic recedes and the epidemic is controled follwed again by a mex of 50+ adn 20+. After that the vaccination can go slower. "
   ]
  },
  {
   "cell_type": "markdown",
   "metadata": {},
   "source": [
    "## With vacination blocking bad symptoms"
   ]
  },
  {
   "cell_type": "code",
   "execution_count": null,
   "metadata": {
    "jupyter": {
     "outputs_hidden": true,
     "source_hidden": true
    }
   },
   "outputs": [],
   "source": [
    "reload(run_robot)\n",
    "\n",
    "icu_atten = [1.0, 0.24, 0.176]\n",
    "r_atten = [1.0, 1.0, 1.0]\n",
    "max_doses[0:30] = 0.001\n",
    "print(\"******************** Running vaccine simulation\")\n",
    "\n",
    "# Case 1 Optimal tests\n",
    "basic_prm[\"alternate\"] = 0.0\n",
    "base_name = f\"results/vaccine_symptoms\"\n",
    "result_file = base_name + \".csv\"\n",
    "run_a_test(basic_prm, result_file, \"\", cities_data, M, target, force_dif, r0pop, r_atten, icu_atten, max_doses);"
   ]
  },
  {
   "cell_type": "code",
   "execution_count": null,
   "metadata": {
    "jupyter": {
     "source_hidden": true
    }
   },
   "outputs": [],
   "source": [
    "solution = pd.read_csv(result_file, index_col=[0, 1, 2])\n",
    "i = agregate(solution, [\"i\", \"ir\"])\n",
    "rt = solution.loc[\"rt\", -1, -1]\n",
    "run_robot.plot_result(\"SP\", basic_prm, rt, i, hammer_data[\"duration\"], start_date=\"2020-02-01\")\n",
    "plt.savefig(base_name + \"_profile.png\")"
   ]
  },
  {
   "cell_type": "markdown",
   "metadata": {},
   "source": [
    "The epidemic is also controlled sooner, but using more social distancing (28 extra days in low) than when the vaccine blocks transmission. "
   ]
  },
  {
   "cell_type": "code",
   "execution_count": null,
   "metadata": {
    "jupyter": {
     "source_hidden": true
    }
   },
   "outputs": [],
   "source": [
    "for i in range(len(bins)):\n",
    "    retrieve_vaccination_profile(solution, i, 0).plot(lw=3, color=colors[i], alpha=0.7, label=f\"{bins[i]}, dose 1\")\n",
    "    retrieve_vaccination_profile(solution, i, 1).plot(lw=3, alpha=0.7, color=colors[i], ls=\"--\", label=f\"{bins[i]}, dose 2\")\n",
    "ticks = range(0, solution.loc[\"s\", 0, 0, :].shape[1], 28)\n",
    "plt.xticks(ticks, ticks)\n",
    "plt.legend()\n",
    "plt.title(\"Vaccination\")\n",
    "plt.savefig(base_name + \"_vaccines.png\")"
   ]
  },
  {
   "cell_type": "code",
   "execution_count": null,
   "metadata": {
    "jupyter": {
     "source_hidden": true
    }
   },
   "outputs": [],
   "source": [
    "total_dose1 = retrieve_vaccination_profile(solution, 0, 0)\n",
    "for i in range(1, len(bins)):\n",
    "    total_dose1 += retrieve_vaccination_profile(solution, i, 0)\n",
    "total_dose2 = retrieve_vaccination_profile(solution, 0, 1)\n",
    "for i in range(1, len(bins)):\n",
    "    total_dose2 += retrieve_vaccination_profile(solution, i, 1)\n",
    "total_dose1.plot(lw=3, alpha=0.7, label=\"Total dose 1\")\n",
    "total_dose2.plot(lw=3, ls=\"--\", alpha=0.7, label=\"Total dose 2\")\n",
    "both = total_dose1 + total_dose2 \n",
    "both.plot(lw=3, alpha=0.3, label=\"Both doses\")\n",
    "plt.xticks(ticks, ticks)\n",
    "plt.legend()\n",
    "plt.title(\"Total daily vaccination\")\n",
    "plt.savefig(base_name + \"_total_vaccines.png\")\n",
    "print(\"Total doses\", sum(both))"
   ]
  },
  {
   "cell_type": "markdown",
   "metadata": {},
   "source": [
    "Again the second dose is postponed to something close to the 84th day, again the 65+ gets its first doses, followed 50+ only and  after tht 20+. In the middle of the first doses of 20+, the elder group starts receiving it second dose followed by second doses to 50+. After that there is a mix of first and second doses to 20+ and the younger group."
   ]
  },
  {
   "cell_type": "markdown",
   "metadata": {},
   "source": [
    "## With vacination blocking infection but with 0.5% vaccines available since the start"
   ]
  },
  {
   "cell_type": "code",
   "execution_count": null,
   "metadata": {},
   "outputs": [],
   "source": [
    "reload(run_robot)\n",
    "\n",
    "r_atten = [1.0, 0.24, 0.176]\n",
    "icu_atten = [1.0, 1.0, 1.0]\n",
    "max_doses[0:30] = 0.005\n",
    "print(\"******************** Running vaccine simulation\")\n",
    "\n",
    "# Case 1 Optimal tests\n",
    "basic_prm[\"alternate\"] = 0.0\n",
    "base_name = f\"results/vaccine_infection_more_doses\"\n",
    "result_file = base_name + \".csv\"\n",
    "run_a_test(basic_prm, result_file, \"\", cities_data, M, target, force_dif, r0pop, r_atten, icu_atten, max_doses);"
   ]
  },
  {
   "cell_type": "code",
   "execution_count": null,
   "metadata": {
    "jupyter": {
     "source_hidden": true
    }
   },
   "outputs": [],
   "source": [
    "solution = pd.read_csv(result_file, index_col=[0, 1, 2])\n",
    "i = agregate(solution, [\"i\", \"ir\"])\n",
    "rt = solution.loc[\"rt\", -1, -1]\n",
    "run_robot.plot_result(\"SP\", basic_prm, rt, i, hammer_data[\"duration\"], start_date=\"2020-02-01\")\n",
    "plt.savefig(base_name + \"_profile.png\")"
   ]
  },
  {
   "cell_type": "markdown",
   "metadata": {},
   "source": [
    "Now the pandemic is controlled much sooner by mid April moderate social distancing mesures only after the initial hammer phase. "
   ]
  },
  {
   "cell_type": "code",
   "execution_count": null,
   "metadata": {
    "jupyter": {
     "source_hidden": true
    }
   },
   "outputs": [],
   "source": [
    "for i in range(len(bins)):\n",
    "    retrieve_vaccination_profile(solution, i, 0).plot(lw=3, color=colors[i], alpha=0.7, label=f\"{bins[i]}, dose 1\")\n",
    "    retrieve_vaccination_profile(solution, i, 1).plot(lw=3, alpha=0.7, color=colors[i], ls=\"--\", label=f\"{bins[i]}, dose 2\")\n",
    "ticks = range(0, solution.loc[\"s\", 0, 0, :].shape[1], 28)\n",
    "plt.xticks(ticks, ticks)\n",
    "plt.legend()\n",
    "plt.title(\"Vaccination\")\n",
    "plt.savefig(base_name + \"_vaccines.png\")"
   ]
  },
  {
   "cell_type": "code",
   "execution_count": null,
   "metadata": {
    "jupyter": {
     "source_hidden": true
    }
   },
   "outputs": [],
   "source": [
    "total_dose1 = retrieve_vaccination_profile(solution, 0, 0)\n",
    "for i in range(1, len(bins)):\n",
    "    total_dose1 += retrieve_vaccination_profile(solution, i, 0)\n",
    "total_dose2 = retrieve_vaccination_profile(solution, 0, 1)\n",
    "for i in range(1, len(bins)):\n",
    "    total_dose2 += retrieve_vaccination_profile(solution, i, 1)\n",
    "total_dose1.plot(lw=3, alpha=0.7, label=\"Total dose 1\")\n",
    "total_dose2.plot(lw=3, ls=\"--\", alpha=0.7, label=\"Total dose 2\")\n",
    "both = total_dose1 + total_dose2 \n",
    "both.plot(lw=3, alpha=0.3, label=\"Both doses\")\n",
    "plt.xticks(ticks, ticks)\n",
    "plt.legend()\n",
    "plt.title(\"Total daily vaccination\")\n",
    "plt.savefig(base_name + \"_total_vaccines.png\")\n",
    "print(\"Total doses\", sum(both))"
   ]
  },
  {
   "cell_type": "markdown",
   "metadata": {},
   "source": [
    "In this case the second dose is postponed to around the 84th day. Note that here **the young group 20+ gets the very first doses** followed by 65+ and a mix between 50+ and 20+. The second shots start with 20_ and 65+ folllowed by 50+.  This indicates indicating that the 20+ higher R0 is relevant and is partially attenuated by these initial doses. Remeber that the vaccine in this case is assumed only to block infection."
   ]
  },
  {
   "cell_type": "markdown",
   "metadata": {},
   "source": [
    "## With vacination blocking bad symptoms but with 0.5% vaccines available since the start"
   ]
  },
  {
   "cell_type": "code",
   "execution_count": null,
   "metadata": {
    "jupyter": {
     "outputs_hidden": true,
     "source_hidden": true
    }
   },
   "outputs": [],
   "source": [
    "reload(run_robot)\n",
    "\n",
    "icu_atten = [1.0, 0.24, 0.176]\n",
    "r_atten = [1.0, 1.0, 1.0]\n",
    "max_doses[0:30] = 0.005\n",
    "print(\"******************** Running vaccine simulation\")\n",
    "\n",
    "# Case 1 Optimal tests\n",
    "basic_prm[\"alternate\"] = 0.0\n",
    "base_name = f\"results/vaccine_symptoms_more_doses\"\n",
    "result_file = base_name + \".csv\"\n",
    "run_a_test(basic_prm, result_file, \"\", cities_data, M, target, force_dif, r0pop, r_atten, icu_atten, max_doses);"
   ]
  },
  {
   "cell_type": "code",
   "execution_count": null,
   "metadata": {
    "jupyter": {
     "source_hidden": true
    }
   },
   "outputs": [],
   "source": [
    "solution = pd.read_csv(result_file, index_col=[0, 1, 2])\n",
    "i = agregate(solution, [\"i\", \"ir\"])\n",
    "rt = solution.loc[\"rt\", -1, -1]\n",
    "run_robot.plot_result(\"SP\", basic_prm, rt, i, hammer_data[\"duration\"], start_date=\"2020-02-01\")\n",
    "plt.savefig(base_name + \"_profile.png\")"
   ]
  },
  {
   "cell_type": "markdown",
   "metadata": {},
   "source": [
    "Again, it takes a longer to control the pandemic if the vaccine only attenuates bad symptoms. There are 42 days of moderate to low social distancing after the initial hammer. "
   ]
  },
  {
   "cell_type": "code",
   "execution_count": null,
   "metadata": {
    "jupyter": {
     "source_hidden": true
    }
   },
   "outputs": [],
   "source": [
    "for i in range(len(bins)):\n",
    "    retrieve_vaccination_profile(solution, i, 0).plot(lw=3, color=colors[i], alpha=0.7, label=f\"{bins[i]}, dose 1\")\n",
    "    retrieve_vaccination_profile(solution, i, 1).plot(lw=3, alpha=0.7, color=colors[i], ls=\"--\", label=f\"{bins[i]}, dose 2\")\n",
    "ticks = range(0, solution.loc[\"s\", 0, 0, :].shape[1], 28)\n",
    "plt.xticks(ticks, ticks)\n",
    "plt.legend()\n",
    "plt.title(\"Vaccination\")\n",
    "plt.savefig(base_name + \"_vaccines.png\")"
   ]
  },
  {
   "cell_type": "code",
   "execution_count": null,
   "metadata": {
    "jupyter": {
     "source_hidden": true
    }
   },
   "outputs": [],
   "source": [
    "total_dose1 = retrieve_vaccination_profile(solution, 0, 0)\n",
    "for i in range(1, len(bins)):\n",
    "    total_dose1 += retrieve_vaccination_profile(solution, i, 0)\n",
    "total_dose2 = retrieve_vaccination_profile(solution, 0, 1)\n",
    "for i in range(1, len(bins)):\n",
    "    total_dose2 += retrieve_vaccination_profile(solution, i, 1)\n",
    "total_dose1.plot(lw=3, alpha=0.7, label=\"Total dose 1\")\n",
    "total_dose2.plot(lw=3, ls=\"--\", alpha=0.7, label=\"Total dose 2\")\n",
    "both = total_dose1 + total_dose2 \n",
    "both.plot(lw=3, alpha=0.3, label=\"Both doses\")\n",
    "plt.xticks(ticks, ticks)\n",
    "plt.legend()\n",
    "plt.title(\"Total daily vaccination\")\n",
    "plt.savefig(base_name + \"_total_vaccines.png\")\n",
    "print(\"Total doses\", sum(both))"
   ]
  },
  {
   "cell_type": "markdown",
   "metadata": {},
   "source": [
    "In this casem the second dose is also delayed up to the last day (day 84). Since the vaccine can only alliviate symptoms it is more important to vaccinate the elder population first and this is very clear in the vaccinatin profile where the first and second doses come in order of age."
   ]
  }
 ],
 "metadata": {
  "celltoolbar": "Edit Metadata",
  "kernelspec": {
   "display_name": "Python 3",
   "language": "python",
   "name": "python3"
  },
  "language_info": {
   "codemirror_mode": {
    "name": "ipython",
    "version": 3
   },
   "file_extension": ".py",
   "mimetype": "text/x-python",
   "name": "python",
   "nbconvert_exporter": "python",
   "pygments_lexer": "ipython3",
   "version": "3.8.5"
  }
 },
 "nbformat": 4,
 "nbformat_minor": 4
}
