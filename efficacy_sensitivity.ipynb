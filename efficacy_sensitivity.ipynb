{
 "cells": [
  {
   "cell_type": "markdown",
   "metadata": {},
   "source": [
    "# Second dose first day with respect to first dose efficacy"
   ]
  },
  {
   "cell_type": "code",
   "execution_count": null,
   "metadata": {
    "hide": true,
    "jupyter": {
     "outputs_hidden": true,
     "source_hidden": true
    },
    "tags": []
   },
   "outputs": [],
   "source": [
    "import os\n",
    "import pandas as pd\n",
    "import numpy as np\n",
    "import datetime\n",
    "import itertools\n",
    "import matplotlib.pylab as plt\n",
    "from matplotlib import rc\n",
    "rc(\"text\", usetex=True)\n",
    "rc(\"font\", family=\"serif\")\n",
    "\n",
    "import run_robot\n",
    "import prepare_data\n",
    "from importlib import reload\n",
    "reload(prepare_data)\n",
    "reload(run_robot)\n",
    "from julia import Main as Julia "
   ]
  },
  {
   "cell_type": "code",
   "execution_count": null,
   "metadata": {
    "jupyter": {
     "outputs_hidden": true,
     "source_hidden": true
    },
    "tags": []
   },
   "outputs": [],
   "source": [
    "# Define the basic data for the case studies\n",
    "\n",
    "# Mean incubation time\n",
    "tinc = 5.2\n",
    "\n",
    "# Mean inffectious time\n",
    "tinf = 2.9\n",
    "\n",
    "# Basic reproduction number\n",
    "basic_rep = 2.5\n",
    "\n",
    "# Lockdown level\n",
    "lock_level = 1.0\n",
    "\n",
    "# Simulation horizon\n",
    "# A little more than a year when thevaccine should be here\n",
    "ndays = 7*52\n",
    "\n",
    "# Mean time in ICU\n",
    "time_icu = 7\n",
    "\n",
    "# Transmission/infection effect of the vaccine \n",
    "r_atten = [1.0, 0.24, 0.176]\n",
    "\n",
    "# Symptoms effect of the vaccine\n",
    "icu_atten = [1.0, 1.0, 1.0]\n",
    "\n",
    "# R0 factor for each population\n",
    "r0pop = [1.0, 1.3, 1.0, 1.0]\n",
    "\n",
    "# Max dose profile\n",
    "max_doses = 0.015*np.ones(ndays)\n",
    "max_doses[0:30] = 0.001\n",
    "max_doses[30:150] = 0.005\n",
    "\n",
    "# Define basic paramters\n",
    "basic_prm = prepare_data.save_basic_parameters(tinc=tinc, tinf=tinf, rep=basic_rep, min_level=lock_level,\n",
    "    time_icu=time_icu, alternate=0, window=14, ndays=ndays)\n",
    "\n",
    "pre_cities_data = {\n",
    "    \"S1\": [0.685], \n",
    "    \"E1\": [0.01], \n",
    "    \"I1\": [0.006], \n",
    "    \"R1\": [0.299], \n",
    "    \"population\": [44639899], \n",
    "    \"icu_capacity\": [0.000175], \n",
    "    \"start_date\": [pd.to_datetime(\"2020-2-1\")]\n",
    "}\n",
    "cities_data = pd.DataFrame(pre_cities_data, index=[\"SP\"])\n",
    "cities_data"
   ]
  },
  {
   "cell_type": "code",
   "execution_count": null,
   "metadata": {
    "jupyter": {
     "source_hidden": true
    }
   },
   "outputs": [],
   "source": [
    "# Create a target matrix (max infected level)\n",
    "ncities, ndays = len(cities_data.index), int(basic_prm[\"ndays\"])\n",
    "target = 0.8*np.ones((ncities, ndays))\n",
    "target = prepare_data.save_target(cities_data, target)\n",
    "\n",
    "# Use a forcedif that releases the cities in the end\n",
    "force_dif = np.zeros((ncities, ndays))"
   ]
  },
  {
   "cell_type": "code",
   "execution_count": null,
   "metadata": {
    "jupyter": {
     "outputs_hidden": true,
     "source_hidden": true
    }
   },
   "outputs": [],
   "source": [
    "# Add information on the time series that estimate the need of ICUs\n",
    "# We are using the time series adjusted considering that the mean ICU stay is 7 days (which lead to larger ICU capacity).\n",
    "\n",
    "# Define the time series to estimate ICU demand\n",
    "ts_sp = np.array([0.009, 0.015, 0.492, 0.0, 0.0, 0.0, 0.083, 0.011, 0.011])\n",
    "\n",
    "ts_drs = ts_sp*np.ones((len(cities_data), len(ts_sp)))\n",
    "ts_drs = pd.DataFrame(data=ts_drs, index=cities_data.index, columns=[\n",
    "    \"rho_min\", \"rho_max\", \"intercept\", \"trend\", \"phi_1\", \"phi_2\", \"sigma_omega\", \"state0\", \"state_less_1\"\n",
    "])\n",
    "ts_drs[\"confidence\"] = 0.9\n",
    "ts_drs[\"time_icu\"] = time_icu\n",
    "cities_data = pd.concat([cities_data, ts_drs], axis=1)\n",
    "cities_data"
   ]
  },
  {
   "cell_type": "code",
   "execution_count": null,
   "metadata": {
    "jupyter": {
     "source_hidden": true
    }
   },
   "outputs": [],
   "source": [
    "pd.set_option(\"display.width\", 120)\n",
    "\n",
    "# Simple function to run a test and save results\n",
    "def run_a_test(basic_prm, result_file, figure_file, cities_data, M, target, force_dif, r0pop, r_atten, icu_atten, max_doses, verbosity=1):\n",
    "    run_robot.prepare_optimization(basic_prm, cities_data, M, target, hammer_data, force_dif,\n",
    "        r0pop, r_atten, icu_atten, max_doses, verbosity=verbosity)\n",
    "    run_robot.optimize_and_show_results(basic_prm, figure_file, result_file, cities_data, target, verbosity=verbosity)"
   ]
  },
  {
   "cell_type": "code",
   "execution_count": null,
   "metadata": {
    "jupyter": {
     "outputs_hidden": true,
     "source_hidden": true
    },
    "tags": []
   },
   "outputs": [],
   "source": [
    "# Define mobility matrix.\n",
    "M = prepare_data.convert_mobility_matrix_and_save(cities_data, max_neighbors=5, drs=\"data/report_drs_mobility.csv\")\n",
    "hammer_data = prepare_data.save_hammer_data(cities_data, 0, basic_prm[\"min_level\"])\n",
    "run_robot.find_feasible_hammer(basic_prm, cities_data, M, target, hammer_data, out_file=None, \n",
    "    incr_all=True, verbosity=1)\n",
    "M"
   ]
  },
  {
   "cell_type": "code",
   "execution_count": null,
   "metadata": {},
   "outputs": [],
   "source": [
    "import warnings\n",
    "warnings.simplefilter(action='ignore', category=FutureWarning)\n",
    "\n",
    "def agregate(solution, labels):\n",
    "    values = solution.loc[labels[0]].sum()\n",
    "    for i in range(1, len(labels)):\n",
    "        values += solution.loc[labels[i]].sum()\n",
    "    return values\n",
    "\n",
    "def retrieve_vaccination_profile(sol, pop=0, dose=0):\n",
    "    sol = sol.loc[:, pop, :]\n",
    "    seir = sol.loc[\"s\", :] + sol.loc[\"e\", :] + sol.loc[\"i\", :] + sol.loc[\"r\", :]\n",
    "    applied = sol.loc[\"v\", dose]*seir.loc[dose]\n",
    "    return applied[14:]"
   ]
  },
  {
   "cell_type": "markdown",
   "metadata": {},
   "source": [
    "## With vaccination blocking infection"
   ]
  },
  {
   "cell_type": "code",
   "execution_count": null,
   "metadata": {
    "jupyter": {
     "outputs_hidden": true,
     "source_hidden": true
    },
    "tags": []
   },
   "outputs": [],
   "source": [
    "print(\"******************** Running vaccine simulation\")\n",
    "icu_atten = [1.0, 1.0, 1.0]\n",
    "bins = [[0, 19], [20, 49], [50, 64], [65, 200]]\n",
    "figure_all_file = \"results/efficacy_sensitivity_infection_R0_20_49_all.svg\"\n",
    "figure_all = plt.figure()\n",
    "\n",
    "basic_prm[\"alternate\"] = 0.0\n",
    "for difr0 in np.linspace(1, 1.6, 7):\n",
    "    r0pop[1] = difr0\n",
    "    dose_delay = []\n",
    "    for atten in np.linspace(1.0, 0.20, 17):\n",
    "        r_atten = [1.0, atten, 0.176]\n",
    "        figure_file = f\"results/efficacy_sensitivity_infection_R0_20_49_{difr0:.2f}\"\n",
    "        result_file =  figure_file + f\"_atten_{atten:.2f}.csv\"\n",
    "        run_a_test(basic_prm, result_file, figure_file, cities_data, M, target, force_dif, r0pop, r_atten, icu_atten, max_doses)\n",
    "        if not Julia.opt_OK:\n",
    "            print(\"Problem in optimization for\", r0pop, r_atten)\n",
    "            print(\"Living result out of plot\")\n",
    "            continue\n",
    "\n",
    "        solution = pd.read_csv(result_file, index_col=[0, 1, 2])\n",
    "\n",
    "        total_dose1 = retrieve_vaccination_profile(solution, 0, 0)\n",
    "        for i in range(1, len(bins)):\n",
    "            total_dose1 += retrieve_vaccination_profile(solution, i, 0)\n",
    "        total_dose2 = retrieve_vaccination_profile(solution, 0, 1)\n",
    "        for i in range(1, len(bins)):\n",
    "            total_dose2 += retrieve_vaccination_profile(solution, i, 1)\n",
    "\n",
    "        start_dose1 = (total_dose1.cumsum() >= 0.2*max_doses[0]).argmax()\n",
    "        start_dose2 = (total_dose2.cumsum() >= 0.2*max_doses[0]).argmax()\n",
    "        dose_delay.append((100*(1.0 - atten), start_dose2 - start_dose1))\n",
    "        print(r0pop, \":\", dose_delay)\n",
    "    dose_delay = np.array(dose_delay).T\n",
    "    plt.figure()\n",
    "    plt.plot(dose_delay[0], dose_delay[1], marker=\"o\", lw=3)\n",
    "    plt.xlabel(\"First dose efficacy\")\n",
    "    plt.ylabel(\"Days to second dose\")\n",
    "    plt.title(\"Time to second dose (from 28-84) - block infection\")\n",
    "    plt.axis(\"tight\")\n",
    "    plt.savefig(figure_file + \".svg\")\n",
    "    plt.figure(figure_all.number)\n",
    "    plt.plot(dose_delay[0], dose_delay[1], marker=\"o\", lw=3, label=f\"20-50 R0 factor {difr0:.1f}\")\n",
    "plt.xlabel(\"First dose efficacy\")\n",
    "plt.ylabel(\"Days to second dose\")\n",
    "plt.title(\"Time to second dose (from 28-84) - block infection\")\n",
    "plt.legend()\n",
    "plt.axis(\"tight\")\n",
    "plt.savefig(figure_all_file)"
   ]
  },
  {
   "cell_type": "markdown",
   "metadata": {},
   "source": [
    "## With vaccination decreasing symptoms"
   ]
  },
  {
   "cell_type": "code",
   "execution_count": null,
   "metadata": {
    "tags": []
   },
   "outputs": [],
   "source": [
    "print(\"******************** Running vaccine simulation\")\n",
    "r_atten = [1.0, 1.0, 1.0]\n",
    "bins = [[0, 19], [20, 49], [50, 64], [65, 200]]\n",
    "figure_all_file = \"results/efficacy_sensitivity_symptoms_R0_20_49_all.svg\"\n",
    "figure_all = plt.figure()\n",
    "\n",
    "basic_prm[\"alternate\"] = 0.0\n",
    "for difr0 in np.linspace(1, 1.6, 7):\n",
    "    r0pop[1] = difr0\n",
    "    dose_delay = []\n",
    "    for atten in np.linspace(1.0, 0.20, 17):\n",
    "        icu_atten = [1.0, atten, 0.176]\n",
    "        figure_file = f\"results/efficacy_sensitivity_symptoms_R0_20_49_{difr0:.2f}\"\n",
    "        result_file =  figure_file + f\"_atten_{atten:.2f}.csv\"\n",
    "        run_a_test(basic_prm, result_file, figure_file, cities_data, M, target, force_dif, r0pop, r_atten, icu_atten, max_doses)\n",
    "        if not Julia.opt_OK:\n",
    "            print(\"Problem in optimization for\", r0pop, r_atten)\n",
    "            print(\"Living result out of plot\")\n",
    "            continue\n",
    "\n",
    "        solution = pd.read_csv(result_file, index_col=[0, 1, 2])\n",
    "\n",
    "        total_dose1 = retrieve_vaccination_profile(solution, 0, 0)\n",
    "        for i in range(1, len(bins)):\n",
    "            total_dose1 += retrieve_vaccination_profile(solution, i, 0)\n",
    "        total_dose2 = retrieve_vaccination_profile(solution, 0, 1)\n",
    "        for i in range(1, len(bins)):\n",
    "            total_dose2 += retrieve_vaccination_profile(solution, i, 1)\n",
    "\n",
    "        start_dose1 = (total_dose1.cumsum() >= 0.2*max_doses[0]).argmax()\n",
    "        start_dose2 = (total_dose2.cumsum() >= 0.2*max_doses[0]).argmax()\n",
    "        dose_delay.append((100*(1.0 - atten), start_dose2 - start_dose1))\n",
    "        print(r0pop, \":\", dose_delay)\n",
    "    plt.figure()\n",
    "    dose_delay = np.array(dose_delay).T\n",
    "    plt.plot(dose_delay[0], dose_delay[1], marker=\"o\", lw=3)\n",
    "    plt.xlabel(\"First dose efficacy\")\n",
    "    plt.ylabel(\"Days to second dose\")\n",
    "    plt.title(\"Time to second dose (from 28-84) - decrease symptoms\")\n",
    "    plt.axis(\"tight\")\n",
    "    plt.savefig(figure_file + \".svg\")\n",
    "    plt.figure(figure_all.number)\n",
    "    plt.plot(dose_delay[0], dose_delay[1], marker=\"o\", lw=3, label=f\"20-50 R0 factor {difr0:.1f}\")\n",
    "plt.xlabel(\"First dose efficacy\")\n",
    "plt.ylabel(\"Days to second dose\")\n",
    "plt.title(\"Time to second dose (from 28-84) - block symptoms\")\n",
    "plt.legend()\n",
    "plt.axis(\"tight\")\n",
    "plt.savefig(figure_all_file)\n"
   ]
  },
  {
   "cell_type": "markdown",
   "metadata": {},
   "source": [
    "## Blocking infection and varying the basic reproduction number from 1.8 - 3.0"
   ]
  },
  {
   "cell_type": "code",
   "execution_count": null,
   "metadata": {},
   "outputs": [],
   "source": [
    "print(\"******************** Running vaccine simulation\")\n",
    "icu_atten = [1.0, 1.0, 1.0]\n",
    "bins = [[0, 19], [20, 49], [50, 64], [65, 200]]\n",
    "r0pop = [1.0, 1.3, 1.0, 1.0]\n",
    "figure_all_file = \"results/efficacy_sensitivity_infection_basic_R0_all.svg\"\n",
    "figure_all = plt.figure()\n",
    "\n",
    "\n",
    "basic_prm[\"alternate\"] = 0.0\n",
    "for basic_rep in [2.5]: #np.linspace(1.8, 3.0, 7):\n",
    "    basic_prm[\"rep\"] = basic_rep\n",
    "    dose_delay = []\n",
    "    for atten in np.linspace(1.0, 0.20, 17):\n",
    "        r_atten = [1.0, atten, 0.176]\n",
    "        figure_file = f\"results/efficacy_sensitivity_infection_basic_rep_{basic_rep:.2f}\"\n",
    "        result_file =  figure_file + f\"_atten_{atten:.2f}.csv\"\n",
    "        run_a_test(basic_prm, result_file, figure_file, cities_data, M, target, force_dif, r0pop, r_atten, icu_atten, max_doses)\n",
    "        if not Julia.opt_OK:\n",
    "            print(\"Problem in optimization for\", r0pop, r_atten)\n",
    "            print(\"Living result out of plot\")\n",
    "            continue\n",
    "\n",
    "        solution = pd.read_csv(result_file, index_col=[0, 1, 2])\n",
    "\n",
    "        total_dose1 = retrieve_vaccination_profile(solution, 0, 0)\n",
    "        for i in range(1, len(bins)):\n",
    "            total_dose1 += retrieve_vaccination_profile(solution, i, 0)\n",
    "        total_dose2 = retrieve_vaccination_profile(solution, 0, 1)\n",
    "        for i in range(1, len(bins)):\n",
    "            total_dose2 += retrieve_vaccination_profile(solution, i, 1)\n",
    "\n",
    "        start_dose1 = (total_dose1.cumsum() >= 0.2*max_doses[0]).argmax()\n",
    "        start_dose2 = (total_dose2.cumsum() >= 0.2*max_doses[0]).argmax()\n",
    "        dose_delay.append((100*(1.0 - atten), start_dose2 - start_dose1))\n",
    "        print(basic_rep, \":\", dose_delay)\n",
    "    dose_delay = np.array(dose_delay).T\n",
    "    plt.figure()\n",
    "    plt.plot(dose_delay[0], dose_delay[1], marker=\"o\", lw=3)\n",
    "    plt.xlabel(\"First dose efficacy\")\n",
    "    plt.ylabel(\"Days to second dose\")\n",
    "    plt.title(\"Time to second dose (from 28-84) - block infection\")\n",
    "    plt.axis(\"tight\")\n",
    "    plt.savefig(figure_file + \".svg\")\n",
    "    plt.figure(figure_all.number)\n",
    "    plt.plot(dose_delay[0], dose_delay[1], marker=\"o\", lw=3, label=f\"R0 factor {basic_rep:.2f}\")\n",
    "plt.xlabel(\"First dose efficacy\")\n",
    "plt.ylabel(\"Days to second dose\")\n",
    "plt.title(\"Time to second dose (from 28-84) - block infection\")\n",
    "plt.legend()\n",
    "plt.axis(\"tight\")\n",
    "plt.savefig(figure_all_file)\n"
   ]
  },
  {
   "cell_type": "markdown",
   "metadata": {},
   "source": [
    "## Blocking symptoms and varying the basic reproduction number from 1.8 - 3.0"
   ]
  },
  {
   "cell_type": "code",
   "execution_count": null,
   "metadata": {},
   "outputs": [],
   "source": [
    "print(\"******************** Running vaccine simulation\")\n",
    "r_atten = [1.0, 1.0, 1.0]\n",
    "bins = [[0, 19], [20, 49], [50, 64], [65, 200]]\n",
    "r0pop = [1.0, 1.3, 1.0, 1.0]\n",
    "figure_all_file = \"results/efficacy_sensitivity_symptoms_basic_R0_all.svg\"\n",
    "figure_all = plt.figure()\n",
    "\n",
    "\n",
    "basic_prm[\"alternate\"] = 0.0\n",
    "for basic_rep in [2.5]: # np.linspace(1.8, 3.0, 7):\n",
    "    basic_prm[\"rep\"] = basic_rep\n",
    "    dose_delay = []\n",
    "    for atten in np.linspace(1.0, 0.20, 17):\n",
    "        icu_atten = [1.0, atten, 0.176]\n",
    "        figure_file = f\"results/efficacy_sensitivity_symptoms_basic_rep_{basic_rep:.2f}\"\n",
    "        result_file =  figure_file + f\"_atten_{atten:.2f}.csv\"\n",
    "        run_a_test(basic_prm, result_file, figure_file, cities_data, M, target, force_dif, r0pop, r_atten, icu_atten, max_doses)\n",
    "        if not Julia.opt_OK:\n",
    "            print(\"Problem in optimization for\", r0pop, r_atten)\n",
    "            print(\"Living result out of plot\")\n",
    "            continue\n",
    "\n",
    "        solution = pd.read_csv(result_file, index_col=[0, 1, 2])\n",
    "\n",
    "        total_dose1 = retrieve_vaccination_profile(solution, 0, 0)\n",
    "        for i in range(1, len(bins)):\n",
    "            total_dose1 += retrieve_vaccination_profile(solution, i, 0)\n",
    "        total_dose2 = retrieve_vaccination_profile(solution, 0, 1)\n",
    "        for i in range(1, len(bins)):\n",
    "            total_dose2 += retrieve_vaccination_profile(solution, i, 1)\n",
    "\n",
    "        start_dose1 = (total_dose1.cumsum() >= 0.2*max_doses[0]).argmax()\n",
    "        start_dose2 = (total_dose2.cumsum() >= 0.2*max_doses[0]).argmax()\n",
    "        dose_delay.append((100*(1.0 - atten), start_dose2 - start_dose1))\n",
    "        print(basic_rep, \":\", dose_delay)\n",
    "    dose_delay = np.array(dose_delay).T\n",
    "    plt.figure()\n",
    "    plt.plot(dose_delay[0], dose_delay[1], marker=\"o\", lw=3)\n",
    "    plt.xlabel(\"First dose efficacy\")\n",
    "    plt.ylabel(\"Days to second dose\")\n",
    "    plt.title(\"Time to second dose (from 28-84) - decrease symptoms\")\n",
    "    plt.axis(\"tight\")\n",
    "    plt.savefig(figure_file + \".svg\")\n",
    "    plt.figure(figure_all.number)\n",
    "    plt.plot(dose_delay[0], dose_delay[1], marker=\"o\", lw=3, label=f\"R0 factor {basic_rep:.2f}\")\n",
    "plt.xlabel(\"First dose efficacy\")\n",
    "plt.ylabel(\"Days to second dose\")\n",
    "plt.title(\"Time to second dose (from 28-84) - block symptoms\")\n",
    "plt.legend()\n",
    "plt.axis(\"tight\")\n",
    "plt.savefig(figure_all_file)"
   ]
  }
 ],
 "metadata": {
  "celltoolbar": "Edit Metadata",
  "kernelspec": {
   "display_name": "Python 3",
   "language": "python",
   "name": "python3"
  },
  "language_info": {
   "codemirror_mode": {
    "name": "ipython",
    "version": 3
   },
   "file_extension": ".py",
   "mimetype": "text/x-python",
   "name": "python",
   "nbconvert_exporter": "python",
   "pygments_lexer": "ipython3",
   "version": "3.8.5"
  }
 },
 "nbformat": 4,
 "nbformat_minor": 4
}
