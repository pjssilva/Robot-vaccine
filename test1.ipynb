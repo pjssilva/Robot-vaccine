{
 "cells": [
  {
   "cell_type": "markdown",
   "metadata": {},
   "source": [
    "# Case study for Robot Vaccine: SP"
   ]
  },
  {
   "cell_type": "code",
   "execution_count": null,
   "metadata": {
    "collapsed": true,
    "hide": true,
    "jupyter": {
     "outputs_hidden": true,
     "source_hidden": true
    },
    "tags": []
   },
   "outputs": [],
   "source": [
    "import os\n",
    "import pandas as pd\n",
    "import numpy as np\n",
    "import datetime\n",
    "import itertools\n",
    "import matplotlib.pylab as plt\n",
    "from matplotlib import rc\n",
    "rc(\"text\", usetex=True)\n",
    "rc(\"font\", family=\"serif\")\n",
    "\n",
    "import run_robot\n",
    "import prepare_data\n",
    "from importlib import reload\n",
    "reload(prepare_data)\n",
    "reload(run_robot)"
   ]
  },
  {
   "cell_type": "code",
   "execution_count": null,
   "metadata": {
    "collapsed": true,
    "jupyter": {
     "outputs_hidden": true,
     "source_hidden": true
    },
    "tags": []
   },
   "outputs": [],
   "source": [
    "# Define the basic data for the case studies\n",
    "\n",
    "# Mean incubation time\n",
    "tinc = 5.2\n",
    "\n",
    "# Mean inffectious time\n",
    "tinf = 2.9\n",
    "\n",
    "# Basic reproduction number\n",
    "basic_rep = 2.5\n",
    "\n",
    "# Lockdown level\n",
    "lock_level = 1.0\n",
    "\n",
    "# Simulation horizon\n",
    "# A little more than a year when thevaccine should be here\n",
    "ndays = 36*14\n",
    "\n",
    "# Mean time in ICU\n",
    "time_icu = 7\n",
    "\n",
    "# Define basic paramters\n",
    "basic_prm = prepare_data.save_basic_parameters(tinc=tinc, tinf=tinf, rep=basic_rep, min_level=lock_level,\n",
    "    time_icu=time_icu, alternate=0, window=14, ndays=ndays)\n",
    "\n",
    "pre_cities_data = {\n",
    "    \"S1\": [0.584], \n",
    "    \"E1\": [0.015], \n",
    "    \"I1\": [0.001], \n",
    "    \"R1\": [0.4], \n",
    "    \"population\": [44639899], \n",
    "    \"icu_capacity\": [0.000175], \n",
    "    \"start_date\": [pd.to_datetime(\"2020-2-1\")]\n",
    "}\n",
    "cities_data = pd.DataFrame(pre_cities_data, index=[\"SP\"])\n",
    "cities_data"
   ]
  },
  {
   "cell_type": "code",
   "execution_count": null,
   "metadata": {
    "jupyter": {
     "source_hidden": true
    }
   },
   "outputs": [],
   "source": [
    "# Create a target matrix (max infected level)\n",
    "ncities, ndays = len(cities_data.index), int(basic_prm[\"ndays\"])\n",
    "target = 0.8*np.ones((ncities, ndays))\n",
    "target = prepare_data.save_target(cities_data, target)\n",
    "\n",
    "# Use a forcedif that releases the cities in the end\n",
    "force_dif = np.zeros((ncities, ndays))"
   ]
  },
  {
   "cell_type": "code",
   "execution_count": null,
   "metadata": {
    "collapsed": true,
    "jupyter": {
     "outputs_hidden": true,
     "source_hidden": true
    }
   },
   "outputs": [],
   "source": [
    "# Add information on the time series that estimate the need of ICUs\n",
    "# We are using the time series adjusted considering that the mean ICU stay is 7 days (which lead to larger ICU capacity).\n",
    "\n",
    "# Define the time series to estimate ICU demand\n",
    "ts_sp = np.array([0.0, 1.0, 0.01, 0.0, 0.0, 0.0, 0.004, 0.01, 0.01])\n",
    "\n",
    "ts_drs = ts_sp*np.ones((len(cities_data), len(ts_sp)))\n",
    "ts_drs = pd.DataFrame(data=ts_drs, index=cities_data.index, columns=[\n",
    "    \"rho_min\", \"rho_max\", \"intercept\", \"trend\", \"phi_1\", \"phi_2\", \"sigma_omega\", \"state0\", \"state_less_1\"\n",
    "])\n",
    "ts_drs[\"confidence\"] = 0.9\n",
    "ts_drs[\"time_icu\"] = time_icu\n",
    "cities_data = pd.concat([cities_data, ts_drs], axis=1)\n",
    "cities_data"
   ]
  },
  {
   "cell_type": "code",
   "execution_count": null,
   "metadata": {
    "jupyter": {
     "source_hidden": true
    }
   },
   "outputs": [],
   "source": [
    "pd.set_option(\"display.width\", 120)\n",
    "\n",
    "# Simple function to run a test and save results\n",
    "def run_a_test(basic_prm, result_file, figure_file, cities_data, M, target, force_dif, pools=None, budget=0, tests_off=np.zeros(0, int), tau=3, test_efficacy=0.8, daily_tests=0, proportional_tests=False, verbosity=1):\n",
    "    run_robot.prepare_optimization(basic_prm, cities_data, M, target, hammer_data, force_dif, pools, \n",
    "        verbosity=verbosity, test_budget=budget, tests_off=tests_off, tau=tau, test_efficacy=test_efficacy, \n",
    "        daily_tests=daily_tests, proportional_tests=proportional_tests)\n",
    "    run_robot.optimize_and_show_results(basic_prm, figure_file, result_file, cities_data, target, verbosity=verbosity)"
   ]
  },
  {
   "cell_type": "code",
   "execution_count": null,
   "metadata": {
    "collapsed": true,
    "jupyter": {
     "outputs_hidden": true,
     "source_hidden": true
    },
    "tags": []
   },
   "outputs": [],
   "source": [
    "# Define mobility matrix.\n",
    "M = prepare_data.convert_mobility_matrix_and_save(cities_data, max_neighbors=5, drs=\"data/report_drs_mobility.csv\")\n",
    "hammer_data = prepare_data.save_hammer_data(cities_data, 0, basic_prm[\"min_level\"])\n",
    "run_robot.find_feasible_hammer(basic_prm, cities_data, M, target, hammer_data, out_file=None, \n",
    "    incr_all=True, verbosity=1)\n",
    "M"
   ]
  },
  {
   "cell_type": "markdown",
   "metadata": {},
   "source": [
    "## Without vacination "
   ]
  },
  {
   "cell_type": "code",
   "execution_count": null,
   "metadata": {
    "collapsed": true,
    "jupyter": {
     "outputs_hidden": true,
     "source_hidden": true
    },
    "tags": []
   },
   "outputs": [],
   "source": [
    "# Obs: Set max_doses to 0 in robot_dance.jl before running this cell.\n",
    "\n",
    "reload(run_robot)\n",
    "\n",
    "# TODO: Get rid of this \"test\" stuff\n",
    "tau, test_efficacy, daily_tests, budget = 3, 0.8, 0, 0\n",
    "tests_off = np.zeros(0, int)\n",
    "\n",
    "print(\"******************** Running vaccine simulation\")\n",
    "\n",
    "# Case 1 Optimal tests\n",
    "basic_prm[\"alternate\"] = 0.0\n",
    "result_file = f\"results/without_vaccine_profile.csv\"\n",
    "figure_file = f\"results/without_vaccine_profile.png\"\n",
    "run_a_test(basic_prm, result_file, figure_file, cities_data, M, target, force_dif, None, budget, tests_off, \n",
    "    tau, test_efficacy, daily_tests);"
   ]
  },
  {
   "cell_type": "code",
   "execution_count": null,
   "metadata": {
    "jupyter": {
     "source_hidden": true
    }
   },
   "outputs": [],
   "source": [
    "solution = pd.read_csv(result_file, index_col=[0, 1, 2])\n",
    "\n",
    "def agregate(solution, labels):\n",
    "    values = solution.loc[labels[0]].sum()\n",
    "    for i in range(1, len(labels)):\n",
    "        values += solution.loc[labels[i]].sum()\n",
    "    return values\n",
    "\n",
    "i = agregate(solution, [\"i\", \"ir\"])\n",
    "rt = solution.loc[\"rt\", -1, -1]\n",
    "run_robot.plot_result(\"SP\", basic_prm, rt, i, hammer_data[\"duration\"], start_date=\"2020-02-01\")"
   ]
  },
  {
   "cell_type": "markdown",
   "metadata": {},
   "source": [
    "Without vacination the epidemic will last till mid July what it recedes due to herd immunity."
   ]
  },
  {
   "cell_type": "markdown",
   "metadata": {},
   "source": [
    "## With vacination blocking transmission"
   ]
  },
  {
   "cell_type": "code",
   "execution_count": null,
   "metadata": {
    "collapsed": true,
    "jupyter": {
     "outputs_hidden": true,
     "source_hidden": true
    }
   },
   "outputs": [],
   "source": [
    "# Before running this cell define the number of available vaccines\n",
    "# and set the system to block transmission;\n",
    "reload(run_robot)\n",
    "\n",
    "# TODO: Get rid of this \"test\" stuff\n",
    "tau, test_efficacy, daily_tests, budget = 3, 0.8, 0, 0\n",
    "tests_off = np.zeros(0, int)\n",
    "\n",
    "print(\"******************** Running vaccine simulation\")\n",
    "\n",
    "# Case 1 Optimal tests\n",
    "basic_prm[\"alternate\"] = 0.0\n",
    "result_file = f\"results/vaccine_profile.csv\"\n",
    "figure_file = f\"results/vaccine_profile.png\"\n",
    "run_a_test(basic_prm, result_file, figure_file, cities_data, M, target, force_dif, None, budget, tests_off, \n",
    "    tau, test_efficacy, daily_tests);"
   ]
  },
  {
   "cell_type": "code",
   "execution_count": null,
   "metadata": {
    "jupyter": {
     "source_hidden": true
    }
   },
   "outputs": [],
   "source": [
    "solution = pd.read_csv(result_file, index_col=[0, 1, 2])\n",
    "i = agregate(solution, [\"i\", \"ir\"])\n",
    "rt = solution.loc[\"rt\", -1, -1]\n",
    "run_robot.plot_result(\"SP\", basic_prm, rt, i, hammer_data[\"duration\"], start_date=\"2020-02-01\")"
   ]
  },
  {
   "cell_type": "markdown",
   "metadata": {},
   "source": [
    "With vaccination the epidemic ends by May. The need for social distancing from mid April on is low."
   ]
  },
  {
   "cell_type": "code",
   "execution_count": null,
   "metadata": {
    "jupyter": {
     "source_hidden": true
    }
   },
   "outputs": [],
   "source": [
    "import warnings\n",
    "warnings.simplefilter(action='ignore', category=FutureWarning)\n",
    "\n",
    "bins = [[0, 19], [20, 49], [50, 64], [65, 200]]\n",
    "colors = [\"C0\", \"C1\", \"C2\", \"C3\"]\n",
    "\n",
    "def retrieve_vaccination_profile(sol, pop=0, dose=0):\n",
    "    sol = sol.loc[:, pop, :]\n",
    "    seir = sol.loc[\"s\", :] + sol.loc[\"e\", :] + sol.loc[\"i\", :] + sol.loc[\"r\", :]\n",
    "    applied = sol.loc[\"v\", dose]*seir.loc[dose]\n",
    "    return applied[14:]"
   ]
  },
  {
   "cell_type": "code",
   "execution_count": null,
   "metadata": {
    "jupyter": {
     "source_hidden": true
    }
   },
   "outputs": [],
   "source": [
    "for i in range(len(bins)):\n",
    "    retrieve_vaccination_profile(solution, i, 0).plot(lw=3, color=colors[i], alpha=0.7, label=f\"{bins[i]}, dose 1\")\n",
    "    retrieve_vaccination_profile(solution, i, 1).plot(lw=3, alpha=0.7, color=colors[i], ls=\"--\", label=f\"{bins[i]}, dose 2\")\n",
    "ticks = range(0, solution.loc[\"s\", 0, 0, :].shape[1], 28)\n",
    "plt.xticks(ticks, ticks)\n",
    "plt.legend()\n",
    "plt.title(\"Vaccination\");"
   ]
  },
  {
   "cell_type": "code",
   "execution_count": null,
   "metadata": {
    "jupyter": {
     "source_hidden": true
    }
   },
   "outputs": [],
   "source": [
    "total_dose1 = retrieve_vaccination_profile(solution, 0, 0)\n",
    "for i in range(1, len(bins)):\n",
    "    total_dose1 += retrieve_vaccination_profile(solution, i, 0)\n",
    "total_dose2 = retrieve_vaccination_profile(solution, 0, 1)\n",
    "for i in range(1, len(bins)):\n",
    "    total_dose2 += retrieve_vaccination_profile(solution, i, 1)\n",
    "total_dose1.plot(lw=3, alpha=0.7, label=\"Total dose 1\")\n",
    "total_dose2.plot(lw=3, ls=\"--\", alpha=0.7, label=\"Total dose 2\")\n",
    "both = total_dose1 + total_dose2 \n",
    "both.plot(lw=3, alpha=0.3, label=\"Both doses\")\n",
    "plt.xticks(ticks, ticks)\n",
    "plt.legend()\n",
    "plt.title(\"Total daily vaccination\");\n",
    "print(\"Total doses\", sum(both))"
   ]
  },
  {
   "cell_type": "markdown",
   "metadata": {},
   "source": [
    "In this case the second dose is postponed to the 60th day. The first group to be vaccinated is 65+ and the second is 50+. Only 65+ needs to get the second dose before the epidemic recedes and the epidemic is controled. After that the vaccination can go slower. In group that has higher R0, 20+, only a few get vaccines before the epidemic is controled."
   ]
  },
  {
   "cell_type": "markdown",
   "metadata": {},
   "source": [
    "## With vacination blocking bad symptoms"
   ]
  },
  {
   "cell_type": "code",
   "execution_count": null,
   "metadata": {
    "collapsed": true,
    "jupyter": {
     "outputs_hidden": true,
     "source_hidden": true
    }
   },
   "outputs": [],
   "source": [
    "# Before running this cell define the number of available vaccines\n",
    "# and set the system to block symptoms.\n",
    "reload(run_robot)\n",
    "\n",
    "# TODO: Get rid of this \"test\" stuff\n",
    "tau, test_efficacy, daily_tests, budget = 3, 0.8, 0, 0\n",
    "tests_off = np.zeros(0, int)\n",
    "\n",
    "print(\"******************** Running vaccine simulation\")\n",
    "\n",
    "# Case 1 Optimal tests\n",
    "basic_prm[\"alternate\"] = 0.0\n",
    "result_file = f\"results/vaccine_profile.csv\"\n",
    "figure_file = f\"results/vaccine_profile.png\"\n",
    "run_a_test(basic_prm, result_file, figure_file, cities_data, M, target, force_dif, None, budget, tests_off, \n",
    "    tau, test_efficacy, daily_tests);"
   ]
  },
  {
   "cell_type": "code",
   "execution_count": null,
   "metadata": {
    "jupyter": {
     "source_hidden": true
    }
   },
   "outputs": [],
   "source": [
    "solution = pd.read_csv(result_file, index_col=[0, 1, 2])\n",
    "i = agregate(solution, [\"i\", \"ir\"])\n",
    "rt = solution.loc[\"rt\", -1, -1]\n",
    "run_robot.plot_result(\"SP\", basic_prm, rt, i, hammer_data[\"duration\"], start_date=\"2020-02-01\")"
   ]
  },
  {
   "cell_type": "markdown",
   "metadata": {},
   "source": [
    "The epidemic is also controlled sooner, but using more social distancing (14 more days in moderate) than when the vaccine blocks transmission. "
   ]
  },
  {
   "cell_type": "code",
   "execution_count": null,
   "metadata": {
    "jupyter": {
     "source_hidden": true
    }
   },
   "outputs": [],
   "source": [
    "for i in range(len(bins)):\n",
    "    retrieve_vaccination_profile(solution, i, 0).plot(lw=3, color=colors[i], alpha=0.7, label=f\"{bins[i]}, dose 1\")\n",
    "    retrieve_vaccination_profile(solution, i, 1).plot(lw=3, alpha=0.7, color=colors[i], ls=\"--\", label=f\"{bins[i]}, dose 2\")\n",
    "ticks = range(0, solution.loc[\"s\", 0, 0, :].shape[1], 28)\n",
    "plt.xticks(ticks, ticks)\n",
    "plt.legend()\n",
    "plt.title(\"Vaccination\");"
   ]
  },
  {
   "cell_type": "code",
   "execution_count": null,
   "metadata": {
    "jupyter": {
     "source_hidden": true
    }
   },
   "outputs": [],
   "source": [
    "total_dose1 = retrieve_vaccination_profile(solution, 0, 0)\n",
    "for i in range(1, len(bins)):\n",
    "    total_dose1 += retrieve_vaccination_profile(solution, i, 0)\n",
    "total_dose2 = retrieve_vaccination_profile(solution, 0, 1)\n",
    "for i in range(1, len(bins)):\n",
    "    total_dose2 += retrieve_vaccination_profile(solution, i, 1)\n",
    "total_dose1.plot(lw=3, alpha=0.7, label=\"Total dose 1\")\n",
    "total_dose2.plot(lw=3, ls=\"--\", alpha=0.7, label=\"Total dose 2\")\n",
    "both = total_dose1 + total_dose2 \n",
    "both.plot(lw=3, alpha=0.3, label=\"Both doses\")\n",
    "plt.xticks(ticks, ticks)\n",
    "plt.legend()\n",
    "plt.title(\"Total daily vaccination\");\n",
    "print(\"Total doses\", sum(both))"
   ]
  },
  {
   "cell_type": "markdown",
   "metadata": {},
   "source": [
    "Again the second dose is postponed to something close to the 60th day, but now only the two older groups receive doses in the first phase and there is more effor to give both doses to them. The group 20+ only receives its first dose at day 112. "
   ]
  },
  {
   "source": [
    "## With vacination blocking transmission/infection but with 0.5% vaccines available since the start"
   ],
   "cell_type": "markdown",
   "metadata": {}
  },
  {
   "cell_type": "code",
   "execution_count": null,
   "metadata": {},
   "outputs": [],
   "source": [
    "# Before running this cell define the number of available vaccines to 0.005 in the first days\n",
    "# and set the system to block transmission.\n",
    "reload(run_robot)\n",
    "\n",
    "# TODO: Get rid of this \"test\" stuff\n",
    "tau, test_efficacy, daily_tests, budget = 3, 0.8, 0, 0\n",
    "tests_off = np.zeros(0, int)\n",
    "\n",
    "print(\"******************** Running vaccine simulation\")\n",
    "\n",
    "# Case 1 Optimal tests\n",
    "basic_prm[\"alternate\"] = 0.0\n",
    "result_file = f\"results/vaccine_profile.csv\"\n",
    "figure_file = f\"results/vaccine_profile.png\"\n",
    "run_a_test(basic_prm, result_file, figure_file, cities_data, M, target, force_dif, None, budget, tests_off, \n",
    "    tau, test_efficacy, daily_tests);"
   ]
  },
  {
   "cell_type": "code",
   "execution_count": null,
   "metadata": {
    "jupyter": {
     "source_hidden": true
    }
   },
   "outputs": [],
   "source": [
    "solution = pd.read_csv(result_file, index_col=[0, 1, 2])\n",
    "i = agregate(solution, [\"i\", \"ir\"])\n",
    "rt = solution.loc[\"rt\", -1, -1]\n",
    "run_robot.plot_result(\"SP\", basic_prm, rt, i, hammer_data[\"duration\"], start_date=\"2020-02-01\")"
   ]
  },
  {
   "cell_type": "markdown",
   "metadata": {},
   "source": [
    "Now the pandemic is controlled much sooner, by the end of April. "
   ]
  },
  {
   "cell_type": "code",
   "execution_count": null,
   "metadata": {
    "jupyter": {
     "source_hidden": true
    }
   },
   "outputs": [],
   "source": [
    "for i in range(len(bins)):\n",
    "    retrieve_vaccination_profile(solution, i, 0).plot(lw=3, color=colors[i], alpha=0.7, label=f\"{bins[i]}, dose 1\")\n",
    "    retrieve_vaccination_profile(solution, i, 1).plot(lw=3, alpha=0.7, color=colors[i], ls=\"--\", label=f\"{bins[i]}, dose 2\")\n",
    "ticks = range(0, solution.loc[\"s\", 0, 0, :].shape[1], 28)\n",
    "plt.xticks(ticks, ticks)\n",
    "plt.legend()\n",
    "plt.title(\"Vaccination\");"
   ]
  },
  {
   "cell_type": "code",
   "execution_count": null,
   "metadata": {
    "jupyter": {
     "source_hidden": true
    }
   },
   "outputs": [],
   "source": [
    "total_dose1 = retrieve_vaccination_profile(solution, 0, 0)\n",
    "for i in range(1, len(bins)):\n",
    "    total_dose1 += retrieve_vaccination_profile(solution, i, 0)\n",
    "total_dose2 = retrieve_vaccination_profile(solution, 0, 1)\n",
    "for i in range(1, len(bins)):\n",
    "    total_dose2 += retrieve_vaccination_profile(solution, i, 1)\n",
    "total_dose1.plot(lw=3, alpha=0.7, label=\"Total dose 1\")\n",
    "total_dose2.plot(lw=3, ls=\"--\", alpha=0.7, label=\"Total dose 2\")\n",
    "both = total_dose1 + total_dose2 \n",
    "both.plot(lw=3, alpha=0.3, label=\"Both doses\")\n",
    "plt.xticks(ticks, ticks)\n",
    "plt.legend()\n",
    "plt.title(\"Total daily vaccination\");\n",
    "print(\"Total doses\", sum(both))"
   ]
  },
  {
   "cell_type": "markdown",
   "metadata": {},
   "source": [
    "In this case the second dose is postponed a little less, and it is used after day 56. Note that here **the young group 20+ gets the very first doses** followed by 50+ and only after that the 65+ group gets its shots. But they are the first to receive the second dose. This indicates indicating that the 20+ higher R0 is relevant and is partially attenuated by these initial doses. "
   ]
  },
  {
   "cell_type": "markdown",
   "metadata": {},
   "source": [
    "## With vacination blocking bad symptoms but with 0.5% vaccines available since the start"
   ]
  },
  {
   "cell_type": "code",
   "execution_count": null,
   "metadata": {
    "collapsed": true,
    "jupyter": {
     "outputs_hidden": true,
     "source_hidden": true
    }
   },
   "outputs": [],
   "source": [
    "# Before running this cell define the number of available vaccines to 0.005 in the first days\n",
    "# and set the system to block symptoms.\n",
    "reload(run_robot)\n",
    "\n",
    "# TODO: Get rid of this \"test\" stuff\n",
    "tau, test_efficacy, daily_tests, budget = 3, 0.8, 0, 0\n",
    "tests_off = np.zeros(0, int)\n",
    "\n",
    "print(\"******************** Running vaccine simulation\")\n",
    "\n",
    "# Case 1 Optimal tests\n",
    "basic_prm[\"alternate\"] = 0.0\n",
    "result_file = f\"results/vaccine_profile.csv\"\n",
    "figure_file = f\"results/vaccine_profile.png\"\n",
    "run_a_test(basic_prm, result_file, figure_file, cities_data, M, target, force_dif, None, budget, tests_off, \n",
    "    tau, test_efficacy, daily_tests);"
   ]
  },
  {
   "cell_type": "code",
   "execution_count": null,
   "metadata": {
    "jupyter": {
     "source_hidden": true
    }
   },
   "outputs": [],
   "source": [
    "solution = pd.read_csv(result_file, index_col=[0, 1, 2])\n",
    "i = agregate(solution, [\"i\", \"ir\"])\n",
    "rt = solution.loc[\"rt\", -1, -1]\n",
    "run_robot.plot_result(\"SP\", basic_prm, rt, i, hammer_data[\"duration\"], start_date=\"2020-02-01\")"
   ]
  },
  {
   "cell_type": "markdown",
   "metadata": {},
   "source": [
    "Again, it takes a little longer to control the pandemic if the vaccine only attenuates bad symptoms. And now by 42 days!"
   ]
  },
  {
   "cell_type": "code",
   "execution_count": null,
   "metadata": {
    "jupyter": {
     "source_hidden": true
    }
   },
   "outputs": [],
   "source": [
    "for i in range(len(bins)):\n",
    "    retrieve_vaccination_profile(solution, i, 0).plot(lw=3, color=colors[i], alpha=0.7, label=f\"{bins[i]}, dose 1\")\n",
    "    retrieve_vaccination_profile(solution, i, 1).plot(lw=3, alpha=0.7, color=colors[i], ls=\"--\", label=f\"{bins[i]}, dose 2\")\n",
    "ticks = range(0, solution.loc[\"s\", 0, 0, :].shape[1], 28)\n",
    "plt.xticks(ticks, ticks)\n",
    "plt.legend()\n",
    "plt.title(\"Vaccination\");"
   ]
  },
  {
   "cell_type": "code",
   "execution_count": null,
   "metadata": {
    "jupyter": {
     "source_hidden": true
    }
   },
   "outputs": [],
   "source": [
    "total_dose1 = retrieve_vaccination_profile(solution, 0, 0)\n",
    "for i in range(1, len(bins)):\n",
    "    total_dose1 += retrieve_vaccination_profile(solution, i, 0)\n",
    "total_dose2 = retrieve_vaccination_profile(solution, 0, 1)\n",
    "for i in range(1, len(bins)):\n",
    "    total_dose2 += retrieve_vaccination_profile(solution, i, 1)\n",
    "total_dose1.plot(lw=3, alpha=0.7, label=\"Total dose 1\")\n",
    "total_dose2.plot(lw=3, ls=\"--\", alpha=0.7, label=\"Total dose 2\")\n",
    "both = total_dose1 + total_dose2 \n",
    "both.plot(lw=3, alpha=0.3, label=\"Both doses\")\n",
    "plt.xticks(ticks, ticks)\n",
    "plt.legend()\n",
    "plt.title(\"Total daily vaccination\");\n",
    "print(\"Total doses\", sum(both))"
   ]
  },
  {
   "cell_type": "markdown",
   "metadata": {},
   "source": [
    "Now the second dose start jut after the 28th day, it is almost not posponed. Once again all the focus is on the two older groups. This is natural, as the vaccine can not block the transmission from the 20+ group that has higher R0. "
   ]
  },
  {
   "cell_type": "code",
   "execution_count": null,
   "metadata": {},
   "outputs": [],
   "source": []
  }
 ],
 "metadata": {
  "celltoolbar": "Edit Metadata",
  "kernelspec": {
   "display_name": "Python 3",
   "language": "python",
   "name": "python3"
  },
  "language_info": {
   "codemirror_mode": {
    "name": "ipython",
    "version": 3
   },
   "file_extension": ".py",
   "mimetype": "text/x-python",
   "name": "python",
   "nbconvert_exporter": "python",
   "pygments_lexer": "ipython3",
   "version": "3.7.9-final"
  }
 },
 "nbformat": 4,
 "nbformat_minor": 4
}