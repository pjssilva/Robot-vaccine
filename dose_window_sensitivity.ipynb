{
 "cells": [
  {
   "cell_type": "markdown",
   "metadata": {},
   "source": [
    "# R0 factor sensitivity for Robot Vaccine: SP"
   ]
  },
  {
   "cell_type": "code",
   "execution_count": null,
   "metadata": {
    "collapsed": true,
    "hide": true,
    "jupyter": {
     "outputs_hidden": true,
     "source_hidden": true
    },
    "tags": []
   },
   "outputs": [],
   "source": [
    "import os\n",
    "import pandas as pd\n",
    "import numpy as np\n",
    "import datetime\n",
    "import itertools\n",
    "import matplotlib.pylab as plt\n",
    "from matplotlib import rc\n",
    "rc(\"text\", usetex=True)\n",
    "rc(\"font\", family=\"serif\")\n",
    "\n",
    "import run_robot\n",
    "import prepare_data\n",
    "from importlib import reload\n",
    "reload(prepare_data)\n",
    "reload(run_robot)"
   ]
  },
  {
   "cell_type": "code",
   "execution_count": null,
   "metadata": {
    "collapsed": true,
    "jupyter": {
     "outputs_hidden": true,
     "source_hidden": true
    },
    "tags": []
   },
   "outputs": [],
   "source": [
    "# Define the basic data for the case studies\n",
    "\n",
    "# Mean incubation time\n",
    "tinc = 5.2\n",
    "\n",
    "# Mean inffectious time\n",
    "tinf = 2.9\n",
    "\n",
    "# Basic reproduction number\n",
    "basic_rep = 2.5\n",
    "\n",
    "# Lockdown level\n",
    "lock_level = 1.0\n",
    "\n",
    "# Simulation horizon\n",
    "# A little more than a year when thevaccine should be here\n",
    "ndays = 7*52\n",
    "\n",
    "# Mean time in ICU\n",
    "time_icu = 7\n",
    "\n",
    "# Transmission/infection effect of the vaccine - Oxford profile\n",
    "oxford_atten = [1.0, 0.24, 0.176]\n",
    "# Transmission/infection effect of the vaccine - Pfizer profile\n",
    "pfizer_atten = [1.0, 0.15, 0.05]\n",
    "\n",
    "# R0 factor for each population\n",
    "r0pop = [1.0, 1.3, 1.0, 1.0]\n",
    "\n",
    "# Max dose profile\n",
    "max_doses = 0.015*np.ones(ndays)\n",
    "max_doses[0:100] = 0.0025\n",
    "max_doses[100:150] = 0.005\n",
    "\n",
    "# Doses window\n",
    "doses_min_window, doses_max_window = [28], [84]\n",
    "\n",
    "# Define basic paramters\n",
    "basic_prm = prepare_data.save_basic_parameters(tinc=tinc, tinf=tinf, rep=basic_rep, min_level=lock_level,\n",
    "    time_icu=time_icu, alternate=0, window=14, ndays=ndays)\n",
    "\n",
    "pre_cities_data = {\n",
    "    \"S1\": [0.685], \n",
    "    \"E1\": [0.01], \n",
    "    \"I1\": [0.006], \n",
    "    \"R1\": [0.299], \n",
    "    \"population\": [44639899], \n",
    "    \"icu_capacity\": [0.000175], \n",
    "    \"start_date\": [pd.to_datetime(\"2020-2-1\")]\n",
    "}\n",
    "cities_data = pd.DataFrame(pre_cities_data, index=[\"SP\"])\n",
    "cities_data"
   ]
  },
  {
   "cell_type": "code",
   "execution_count": null,
   "metadata": {
    "jupyter": {
     "source_hidden": true
    }
   },
   "outputs": [],
   "source": [
    "# Create a target matrix (max infected level)\n",
    "ncities, ndays = len(cities_data.index), int(basic_prm[\"ndays\"])\n",
    "target = 0.8*np.ones((ncities, ndays))\n",
    "target = prepare_data.save_target(cities_data, target)\n",
    "\n",
    "# Use a forcedif that releases the cities in the end\n",
    "force_dif = np.zeros((ncities, ndays))"
   ]
  },
  {
   "cell_type": "code",
   "execution_count": null,
   "metadata": {
    "collapsed": true,
    "jupyter": {
     "outputs_hidden": true,
     "source_hidden": true
    }
   },
   "outputs": [],
   "source": [
    "# Add information on the time series that estimate the need of ICUs\n",
    "# We are using the time series adjusted considering that the mean ICU stay is 7 days (which lead to larger ICU capacity).\n",
    "\n",
    "# Define the time series to estimate ICU demand\n",
    "ts_sp = np.array([0.009, 0.015, 0.492, 0.0, 0.0, 0.0, 0.083, 0.011, 0.011])\n",
    "\n",
    "ts_drs = ts_sp*np.ones((len(cities_data), len(ts_sp)))\n",
    "ts_drs = pd.DataFrame(data=ts_drs, index=cities_data.index, columns=[\n",
    "    \"rho_min\", \"rho_max\", \"intercept\", \"trend\", \"phi_1\", \"phi_2\", \"sigma_omega\", \"state0\", \"state_less_1\"\n",
    "])\n",
    "ts_drs[\"confidence\"] = 0.9\n",
    "ts_drs[\"time_icu\"] = time_icu\n",
    "cities_data = pd.concat([cities_data, ts_drs], axis=1)\n",
    "cities_data"
   ]
  },
  {
   "cell_type": "code",
   "execution_count": null,
   "metadata": {
    "jupyter": {
     "source_hidden": true
    }
   },
   "outputs": [],
   "source": [
    "pd.set_option(\"display.width\", 120)\n",
    "\n",
    "# Simple function to run a test and save results\n",
    "def run_a_test(basic_prm, result_file, figure_file, cities_data, M, target, force_dif, r0factor, r_atten, icu_atten, \n",
    "    max_doses, doses_min_window, doses_max_window, verbosity=1):\n",
    "    run_robot.prepare_optimization(basic_prm, cities_data, M, target, hammer_data, force_dif,\n",
    "        r0pop, r_atten, icu_atten, max_doses, doses_min_window, doses_max_window, verbosity=verbosity)\n",
    "    run_robot.optimize_and_show_results(basic_prm, figure_file, result_file, cities_data, target, verbosity=verbosity)"
   ]
  },
  {
   "cell_type": "code",
   "execution_count": null,
   "metadata": {
    "collapsed": true,
    "jupyter": {
     "outputs_hidden": true,
     "source_hidden": true
    },
    "tags": []
   },
   "outputs": [],
   "source": [
    "# Define mobility matrix.\n",
    "M = prepare_data.convert_mobility_matrix_and_save(cities_data, max_neighbors=5, drs=\"data/report_drs_mobility.csv\")\n",
    "hammer_data = prepare_data.save_hammer_data(cities_data, 0, basic_prm[\"min_level\"])\n",
    "run_robot.find_feasible_hammer(basic_prm, cities_data, M, target, hammer_data, out_file=None, \n",
    "    incr_all=True, verbosity=1)\n",
    "hammer_data[\"duration\"] = 14\n",
    "M, hammer_data"
   ]
  },
  {
   "cell_type": "code",
   "execution_count": null,
   "metadata": {},
   "outputs": [],
   "source": [
    "import warnings\n",
    "warnings.simplefilter(action='ignore', category=FutureWarning)\n",
    "\n",
    "def agregate(solution, labels):\n",
    "    values = solution.loc[labels[0]].sum()\n",
    "    for i in range(1, len(labels)):\n",
    "        values += solution.loc[labels[i]].sum()\n",
    "    return values\n",
    "\n",
    "def retrieve_vaccination_profile(sol, pop=0, dose=0):\n",
    "    sol = sol.loc[:, pop, :]\n",
    "    seir = sol.loc[\"s\", :] + sol.loc[\"e\", :] + sol.loc[\"i\", :] + sol.loc[\"r\", :]\n",
    "    applied = sol.loc[\"v\", dose]*seir.loc[dose]\n",
    "    return applied[14:]"
   ]
  },
  {
   "source": [
    "## With vaccination blocking infections"
   ],
   "cell_type": "markdown",
   "metadata": {}
  },
  {
   "cell_type": "code",
   "execution_count": null,
   "metadata": {},
   "outputs": [],
   "source": [
    "print(\"******************** Running vaccine simulation\")\n",
    "bins = [[0, 19], [20, 49], [50, 64], [65, 200]]\n",
    "\n",
    "r_atten = pfizer_atten\n",
    "icu_atten = [1.0, 1.0, 1.0]\n",
    "\n",
    "free_days = []\n",
    "for max_dose_thresold in range(28, 28*3 + 1, 7):\n",
    "    doses_max_window = [max_dose_thresold]\n",
    "    result_file = f\"results/dose_window_sensitivity_infection_{max_dose_thresold}.csv\"\n",
    "    figure_file = f\"\"\n",
    "    run_a_test(basic_prm, result_file, figure_file, cities_data, M, target, force_dif, r0pop, r_atten, icu_atten, \n",
    "        max_doses, doses_min_window, doses_max_window)\n",
    "\n",
    "    solution = pd.read_csv(result_file, index_col=[0, 1, 2])\n",
    "    free_days.append((max_dose_thresold, (solution.loc[\"rt\", -1, -1] > 0.8*basic_prm[\"rep\"]).sum()))\n",
    "    print(free_days)"
   ]
  },
  {
   "cell_type": "code",
   "execution_count": null,
   "metadata": {},
   "outputs": [],
   "source": [
    "free_days = np.array(free_days)\n",
    "plt.plot(free_days[:, 0], free_days[:, 1], marker=\"o\")\n",
    "plt.title(\"Relaxed days ($R0 \\geq 2.0$)\")\n",
    "plt.xlabel(\"Max delay (in days, starting from 28)\")\n",
    "plt.ylabel(\"Free days\")\n",
    "plt.xticks(free_days[:, 0])\n",
    "plt.yticks(free_days[:, 1])\n",
    "plt.show()"
   ]
  },
  {
   "cell_type": "code",
   "execution_count": null,
   "metadata": {},
   "outputs": [],
   "source": [
    "free_days = []\n",
    "for max_dose_thresold in range(28, 28*3 + 1, 7):\n",
    "    doses_max_window = [max_dose_thresold]\n",
    "    result_file = f\"results/dose_window_sensitivity_infection_{max_dose_thresold}.csv\"\n",
    "    figure_file = f\"\"\n",
    "\n",
    "    solution = pd.read_csv(result_file, index_col=[0, 1, 2])\n",
    "    free_days.append((max_dose_thresold, (solution.loc[\"rt\", -1, -1] >= basic_prm[\"rep\"]).sum()))\n",
    "    print(free_days)"
   ]
  },
  {
   "cell_type": "code",
   "execution_count": null,
   "metadata": {},
   "outputs": [],
   "source": [
    "free_days = np.array(free_days)\n",
    "plt.plot(free_days[:, 0], free_days[:, 1], marker=\"o\")\n",
    "plt.title(\"Fully open ($R0 = 2.5$)\")\n",
    "plt.xlabel(\"Max delay (in days, starting from 28)\")\n",
    "plt.ylabel(\"Free days\")\n",
    "plt.xticks(free_days[:, 0])\n",
    "plt.yticks(free_days[:, 1])\n",
    "plt.show()"
   ]
  },
  {
   "source": [
    "## With vaccination blocking Symptoms"
   ],
   "cell_type": "markdown",
   "metadata": {}
  },
  {
   "cell_type": "code",
   "execution_count": null,
   "metadata": {},
   "outputs": [],
   "source": [
    "print(\"******************** Running vaccine simulation\")\n",
    "bins = [[0, 19], [20, 49], [50, 64], [65, 200]]\n",
    "\n",
    "icu_atten = pfizer_atten\n",
    "r_atten = [1.0, 1.0, 1.0]\n",
    "\n",
    "free_days = []\n",
    "for max_dose_thresold in range(28, 28*3 + 1, 7):\n",
    "    doses_max_window = [max_dose_thresold]\n",
    "    result_file = f\"results/dose_window_sensitivity_symptoms_{max_dose_thresold}.csv\"\n",
    "    figure_file = f\"\"\n",
    "    run_a_test(basic_prm, result_file, figure_file, cities_data, M, target, force_dif, r0pop, r_atten, icu_atten, \n",
    "        max_doses, doses_min_window, doses_max_window)\n",
    "\n",
    "    solution = pd.read_csv(result_file, index_col=[0, 1, 2])\n",
    "    free_days.append((max_dose_thresold, (solution.loc[\"rt\", -1, -1] > 0.8*basic_prm[\"rep\"]).sum()))\n",
    "    print(free_days)"
   ]
  },
  {
   "cell_type": "code",
   "execution_count": null,
   "metadata": {},
   "outputs": [],
   "source": [
    "free_days = np.array(free_days)\n",
    "plt.plot(free_days[:, 0], free_days[:, 1], marker=\"o\")\n",
    "plt.title(\"Relaxed days ($R0 > 2.0$)\")\n",
    "plt.xlabel(\"Max delay (in days, starting from 28)\")\n",
    "plt.ylabel(\"Free days\")\n",
    "plt.xticks(free_days[:, 0])\n",
    "plt.yticks(free_days[:, 1])\n",
    "plt.show()"
   ]
  },
  {
   "cell_type": "code",
   "execution_count": null,
   "metadata": {},
   "outputs": [],
   "source": [
    "free_days = []\n",
    "for max_dose_thresold in range(28, 28*3 + 1, 7):\n",
    "    doses_max_window = [max_dose_thresold]\n",
    "    result_file = f\"results/dose_window_sensitivity_symptoms_{max_dose_thresold}.csv\"\n",
    "    figure_file = f\"\"\n",
    "\n",
    "    solution = pd.read_csv(result_file, index_col=[0, 1, 2])\n",
    "    free_days.append((max_dose_thresold, (solution.loc[\"rt\", -1, -1] >= basic_prm[\"rep\"]).sum()))\n",
    "    print(free_days)"
   ]
  },
  {
   "cell_type": "code",
   "execution_count": null,
   "metadata": {},
   "outputs": [],
   "source": [
    "free_days = np.array(free_days)\n",
    "plt.plot(free_days[:, 0], free_days[:, 1], marker=\"o\")\n",
    "plt.title(\"Fully open ($R0 = 2.5$)\")\n",
    "plt.xlabel(\"Max delay (in days, starting from 28)\")\n",
    "plt.ylabel(\"Free days\")\n",
    "plt.xticks(free_days[:, 0])\n",
    "plt.yticks(free_days[:, 1])\n",
    "plt.show()"
   ]
  },
  {
   "source": [
    "### Oxford-Astra Zeneca - block infection"
   ],
   "cell_type": "markdown",
   "metadata": {}
  },
  {
   "cell_type": "code",
   "execution_count": null,
   "metadata": {},
   "outputs": [],
   "source": [
    "print(\"******************** Running vaccine simulation\")\n",
    "bins = [[0, 19], [20, 49], [50, 64], [65, 200]]\n",
    "\n",
    "r_atten = oxford_atten\n",
    "icu_atten = [1.0, 1.0, 1.0]\n",
    "\n",
    "free_days = []\n",
    "for max_dose_thresold in range(28, 28*3 + 1, 7):\n",
    "    doses_max_window = [max_dose_thresold]\n",
    "    result_file = f\"results/dose_window_sensitivity_infection_{max_dose_thresold}_oxford.csv\"\n",
    "    figure_file = f\"\"\n",
    "    run_a_test(basic_prm, result_file, figure_file, cities_data, M, target, force_dif, r0pop, r_atten, icu_atten, \n",
    "        max_doses, doses_min_window, doses_max_window)\n",
    "\n",
    "    solution = pd.read_csv(result_file, index_col=[0, 1, 2])\n",
    "    free_days.append((max_dose_thresold, (solution.loc[\"rt\", -1, -1] > 0.8*basic_prm[\"rep\"]).sum()))\n",
    "    print(free_days)"
   ]
  },
  {
   "cell_type": "code",
   "execution_count": null,
   "metadata": {},
   "outputs": [],
   "source": [
    "free_days = np.array(free_days)\n",
    "plt.plot(free_days[:, 0], free_days[:, 1], marker=\"o\")\n",
    "plt.title(\"Relaxed days ($R0 > 2.0$)\")\n",
    "plt.xlabel(\"Max delay (in days, starting from 28)\")\n",
    "plt.ylabel(\"Free days\")\n",
    "plt.xticks(free_days[:, 0])\n",
    "plt.yticks(free_days[:, 1])\n",
    "plt.show()"
   ]
  },
  {
   "cell_type": "code",
   "execution_count": null,
   "metadata": {},
   "outputs": [],
   "source": [
    "free_days = []\n",
    "for max_dose_thresold in range(28, 28*3 + 1, 7):\n",
    "    doses_max_window = [max_dose_thresold]\n",
    "    result_file = f\"results/dose_window_sensitivity_infection_{max_dose_thresold}_oxford.csv\"\n",
    "    figure_file = f\"\"\n",
    "\n",
    "    solution = pd.read_csv(result_file, index_col=[0, 1, 2])\n",
    "    free_days.append((max_dose_thresold, (solution.loc[\"rt\", -1, -1] > 0.95*basic_prm[\"rep\"]).sum()))\n",
    "    print(free_days)"
   ]
  },
  {
   "cell_type": "code",
   "execution_count": null,
   "metadata": {},
   "outputs": [],
   "source": [
    "free_days = np.array(free_days)\n",
    "plt.plot(free_days[:, 0], free_days[:, 1], marker=\"o\")\n",
    "plt.title(\"Fully open ($R0 > 2.375$)\")\n",
    "plt.xlabel(\"Max delay (in days, starting from 28)\")\n",
    "plt.ylabel(\"Free days\")\n",
    "plt.xticks(free_days[:, 0])\n",
    "plt.yticks(free_days[:, 1])\n",
    "plt.show()"
   ]
  },
  {
   "cell_type": "code",
   "execution_count": null,
   "metadata": {},
   "outputs": [],
   "source": [
    "### Oxford-Astra Zeneca - block symptoms"
   ]
  },
  {
   "cell_type": "code",
   "execution_count": null,
   "metadata": {},
   "outputs": [],
   "source": [
    "print(\"******************** Running vaccine simulation\")\n",
    "bins = [[0, 19], [20, 49], [50, 64], [65, 200]]\n",
    "\n",
    "icu_atten = oxford_atten\n",
    "r_atten = [1.0, 1.0, 1.0]\n",
    "\n",
    "free_days = []\n",
    "for max_dose_thresold in range(28, 28*3 + 1, 7):\n",
    "    doses_max_window = [max_dose_thresold]\n",
    "    result_file = f\"results/dose_window_sensitivity_symptoms_{max_dose_thresold}_oxford.csv\"\n",
    "    figure_file = f\"\"\n",
    "    run_a_test(basic_prm, result_file, figure_file, cities_data, M, target, force_dif, r0pop, r_atten, icu_atten, \n",
    "        max_doses, doses_min_window, doses_max_window)\n",
    "\n",
    "    solution = pd.read_csv(result_file, index_col=[0, 1, 2])\n",
    "    free_days.append((max_dose_thresold, (solution.loc[\"rt\", -1, -1] > 0.8*basic_prm[\"rep\"]).sum()))\n",
    "    print(free_days)"
   ]
  },
  {
   "cell_type": "code",
   "execution_count": null,
   "metadata": {},
   "outputs": [],
   "source": [
    "free_days = np.array(free_days)\n",
    "plt.plot(free_days[:, 0], free_days[:, 1], marker=\"o\")\n",
    "plt.title(\"Relaxed days ($R0 > 2.0$)\")\n",
    "plt.xlabel(\"Max delay (in days, starting from 28)\")\n",
    "plt.ylabel(\"Free days\")\n",
    "plt.xticks(free_days[:, 0])\n",
    "plt.yticks(free_days[:, 1])\n",
    "plt.show()"
   ]
  },
  {
   "cell_type": "code",
   "execution_count": null,
   "metadata": {},
   "outputs": [],
   "source": [
    "free_days = []\n",
    "for max_dose_thresold in range(28, 28*3 + 1, 7):\n",
    "    doses_max_window = [max_dose_thresold]\n",
    "    result_file = f\"results/dose_window_sensitivity_symptoms_{max_dose_thresold}_oxford.csv\"\n",
    "    figure_file = f\"\"\n",
    "\n",
    "    solution = pd.read_csv(result_file, index_col=[0, 1, 2])\n",
    "    free_days.append((max_dose_thresold, (solution.loc[\"rt\", -1, -1] > 0.95*basic_prm[\"rep\"]).sum()))\n",
    "    print(free_days)"
   ]
  },
  {
   "cell_type": "code",
   "execution_count": null,
   "metadata": {},
   "outputs": [],
   "source": [
    "free_days = np.array(free_days)\n",
    "plt.plot(free_days[:, 0], free_days[:, 1], marker=\"o\")\n",
    "plt.title(\"Fully open ($R0 > 2.375$)\")\n",
    "plt.xlabel(\"Max delay (in days, starting from 28)\")\n",
    "plt.ylabel(\"Free days\")\n",
    "plt.xticks(free_days[:, 0])\n",
    "plt.yticks(free_days[:, 1])\n",
    "plt.show()"
   ]
  }
 ],
 "metadata": {
  "celltoolbar": "Edit Metadata",
  "kernelspec": {
   "display_name": "Python 3",
   "language": "python",
   "name": "python3"
  },
  "language_info": {
   "codemirror_mode": {
    "name": "ipython",
    "version": 3
   },
   "file_extension": ".py",
   "mimetype": "text/x-python",
   "name": "python",
   "nbconvert_exporter": "python",
   "pygments_lexer": "ipython3",
   "version": "3.7.9-final"
  }
 },
 "nbformat": 4,
 "nbformat_minor": 4
}