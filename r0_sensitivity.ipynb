{
 "cells": [
  {
   "cell_type": "markdown",
   "metadata": {},
   "source": [
    "# Case study for Robot Vaccine: SP"
   ]
  },
  {
   "cell_type": "code",
   "execution_count": 1,
   "metadata": {
    "collapsed": true,
    "hide": true,
    "jupyter": {
     "outputs_hidden": true,
     "source_hidden": true
    },
    "tags": []
   },
   "outputs": [
    {
     "output_type": "stream",
     "name": "stdout",
     "text": [
      "Loading modules...\n",
      "Loading modules... Ok!\n",
      "Loading Julia library...\n",
      "Loading Julia library... Ok!\n",
      "Loading Robot-dance Julia module...\n",
      "Loading Robot-dance Julia module... Ok!\n",
      "Loading Julia library...\n",
      "Loading Julia library... Ok!\n",
      "Loading Robot-dance Julia module...\n",
      "Loading Robot-dance Julia module... Ok!\n",
      "Loading Julia library...\n",
      "Loading Julia library... Ok!\n",
      "Loading Robot-dance Julia module...\n",
      "Loading Robot-dance Julia module... Ok!\n",
      "Loading modules...\n",
      "Loading modules... Ok!\n",
      "Loading Julia library...\n",
      "Loading Julia library... Ok!\n",
      "Loading Robot-dance Julia module...\n",
      "Loading Robot-dance Julia module... Ok!\n"
     ]
    },
    {
     "output_type": "execute_result",
     "data": {
      "text/plain": [
       "<module 'run_robot' from '/home/pjssilva/documentos/pesquisa/robot_dance/code-vaccine/run_robot.py'>"
      ]
     },
     "metadata": {},
     "execution_count": 1
    }
   ],
   "source": [
    "import os\n",
    "import pandas as pd\n",
    "import numpy as np\n",
    "import datetime\n",
    "import itertools\n",
    "import matplotlib.pylab as plt\n",
    "from matplotlib import rc\n",
    "rc(\"text\", usetex=True)\n",
    "rc(\"font\", family=\"serif\")\n",
    "\n",
    "import run_robot\n",
    "import prepare_data\n",
    "from importlib import reload\n",
    "reload(prepare_data)\n",
    "reload(run_robot)"
   ]
  },
  {
   "cell_type": "code",
   "execution_count": 2,
   "metadata": {
    "collapsed": true,
    "jupyter": {
     "outputs_hidden": true,
     "source_hidden": true
    },
    "tags": []
   },
   "outputs": [
    {
     "output_type": "execute_result",
     "data": {
      "text/plain": [
       "       S1     E1     I1   R1  population  icu_capacity start_date\n",
       "SP  0.584  0.015  0.001  0.4    44639899      0.000175 2020-02-01"
      ],
      "text/html": "<div>\n<style scoped>\n    .dataframe tbody tr th:only-of-type {\n        vertical-align: middle;\n    }\n\n    .dataframe tbody tr th {\n        vertical-align: top;\n    }\n\n    .dataframe thead th {\n        text-align: right;\n    }\n</style>\n<table border=\"1\" class=\"dataframe\">\n  <thead>\n    <tr style=\"text-align: right;\">\n      <th></th>\n      <th>S1</th>\n      <th>E1</th>\n      <th>I1</th>\n      <th>R1</th>\n      <th>population</th>\n      <th>icu_capacity</th>\n      <th>start_date</th>\n    </tr>\n  </thead>\n  <tbody>\n    <tr>\n      <th>SP</th>\n      <td>0.584</td>\n      <td>0.015</td>\n      <td>0.001</td>\n      <td>0.4</td>\n      <td>44639899</td>\n      <td>0.000175</td>\n      <td>2020-02-01</td>\n    </tr>\n  </tbody>\n</table>\n</div>"
     },
     "metadata": {},
     "execution_count": 2
    }
   ],
   "source": [
    "# Define the basic data for the case studies\n",
    "\n",
    "# Mean incubation time\n",
    "tinc = 5.2\n",
    "\n",
    "# Mean inffectious time\n",
    "tinf = 2.9\n",
    "\n",
    "# Basic reproduction number\n",
    "basic_rep = 2.5\n",
    "\n",
    "# Lockdown level\n",
    "lock_level = 1.0\n",
    "\n",
    "# Simulation horizon\n",
    "# A little more than a year when thevaccine should be here\n",
    "ndays = 7*52\n",
    "\n",
    "# Mean time in ICU\n",
    "time_icu = 7\n",
    "\n",
    "# Transmission/infection effect of the vaccine \n",
    "r_atten = [1.0, 0.24, 0.176]\n",
    "\n",
    "# Symptoms effect of the vaccine\n",
    "icu_atten = [1.0, 1.0, 1.0]\n",
    "\n",
    "# R0 factor for each population\n",
    "r0pop = [1.0, 1.3, 1.0, 1.0]\n",
    "\n",
    "# Max dose profile\n",
    "max_doses = 0.015*np.ones(ndays)\n",
    "max_doses[0:30] = 0.001\n",
    "max_doses[30:150] = 0.005\n",
    "\n",
    "# Define basic paramters\n",
    "basic_prm = prepare_data.save_basic_parameters(tinc=tinc, tinf=tinf, rep=basic_rep, min_level=lock_level,\n",
    "    time_icu=time_icu, alternate=0, window=14, ndays=ndays)\n",
    "\n",
    "pre_cities_data = {\n",
    "    \"S1\": [0.684], \n",
    "    \"E1\": [0.015], \n",
    "    \"I1\": [0.001], \n",
    "    \"R1\": [0.3], \n",
    "    \"population\": [44639899], \n",
    "    \"icu_capacity\": [0.000175], \n",
    "    \"start_date\": [pd.to_datetime(\"2020-2-1\")]\n",
    "}\n",
    "cities_data = pd.DataFrame(pre_cities_data, index=[\"SP\"])\n",
    "cities_data"
   ]
  },
  {
   "cell_type": "code",
   "execution_count": 3,
   "metadata": {
    "jupyter": {
     "source_hidden": true
    }
   },
   "outputs": [],
   "source": [
    "# Create a target matrix (max infected level)\n",
    "ncities, ndays = len(cities_data.index), int(basic_prm[\"ndays\"])\n",
    "target = 0.8*np.ones((ncities, ndays))\n",
    "target = prepare_data.save_target(cities_data, target)\n",
    "\n",
    "# Use a forcedif that releases the cities in the end\n",
    "force_dif = np.zeros((ncities, ndays))"
   ]
  },
  {
   "cell_type": "code",
   "execution_count": 4,
   "metadata": {
    "collapsed": true,
    "jupyter": {
     "outputs_hidden": true,
     "source_hidden": true
    }
   },
   "outputs": [
    {
     "output_type": "execute_result",
     "data": {
      "text/plain": [
       "       S1     E1     I1   R1  population  icu_capacity start_date  rho_min  \\\n",
       "SP  0.584  0.015  0.001  0.4    44639899      0.000175 2020-02-01      0.0   \n",
       "\n",
       "    rho_max  intercept  trend  phi_1  phi_2  sigma_omega  state0  \\\n",
       "SP      1.0       0.01    0.0    0.0    0.0        0.004    0.01   \n",
       "\n",
       "    state_less_1  confidence  time_icu  \n",
       "SP          0.01         0.9         7  "
      ],
      "text/html": "<div>\n<style scoped>\n    .dataframe tbody tr th:only-of-type {\n        vertical-align: middle;\n    }\n\n    .dataframe tbody tr th {\n        vertical-align: top;\n    }\n\n    .dataframe thead th {\n        text-align: right;\n    }\n</style>\n<table border=\"1\" class=\"dataframe\">\n  <thead>\n    <tr style=\"text-align: right;\">\n      <th></th>\n      <th>S1</th>\n      <th>E1</th>\n      <th>I1</th>\n      <th>R1</th>\n      <th>population</th>\n      <th>icu_capacity</th>\n      <th>start_date</th>\n      <th>rho_min</th>\n      <th>rho_max</th>\n      <th>intercept</th>\n      <th>trend</th>\n      <th>phi_1</th>\n      <th>phi_2</th>\n      <th>sigma_omega</th>\n      <th>state0</th>\n      <th>state_less_1</th>\n      <th>confidence</th>\n      <th>time_icu</th>\n    </tr>\n  </thead>\n  <tbody>\n    <tr>\n      <th>SP</th>\n      <td>0.584</td>\n      <td>0.015</td>\n      <td>0.001</td>\n      <td>0.4</td>\n      <td>44639899</td>\n      <td>0.000175</td>\n      <td>2020-02-01</td>\n      <td>0.0</td>\n      <td>1.0</td>\n      <td>0.01</td>\n      <td>0.0</td>\n      <td>0.0</td>\n      <td>0.0</td>\n      <td>0.004</td>\n      <td>0.01</td>\n      <td>0.01</td>\n      <td>0.9</td>\n      <td>7</td>\n    </tr>\n  </tbody>\n</table>\n</div>"
     },
     "metadata": {},
     "execution_count": 4
    }
   ],
   "source": [
    "# Add information on the time series that estimate the need of ICUs\n",
    "# We are using the time series adjusted considering that the mean ICU stay is 7 days (which lead to larger ICU capacity).\n",
    "\n",
    "# Define the time series to estimate ICU demand\n",
    "ts_sp = np.array([0.0, 1.0, 0.01, 0.0, 0.0, 0.0, 0.004, 0.01, 0.01])\n",
    "\n",
    "ts_drs = ts_sp*np.ones((len(cities_data), len(ts_sp)))\n",
    "ts_drs = pd.DataFrame(data=ts_drs, index=cities_data.index, columns=[\n",
    "    \"rho_min\", \"rho_max\", \"intercept\", \"trend\", \"phi_1\", \"phi_2\", \"sigma_omega\", \"state0\", \"state_less_1\"\n",
    "])\n",
    "ts_drs[\"confidence\"] = 0.9\n",
    "ts_drs[\"time_icu\"] = time_icu\n",
    "cities_data = pd.concat([cities_data, ts_drs], axis=1)\n",
    "cities_data"
   ]
  },
  {
   "cell_type": "code",
   "execution_count": 5,
   "metadata": {
    "jupyter": {
     "source_hidden": true
    }
   },
   "outputs": [],
   "source": [
    "pd.set_option(\"display.width\", 120)\n",
    "\n",
    "# Simple function to run a test and save results\n",
    "def run_a_test(basic_prm, result_file, figure_file, cities_data, M, target, force_dif, r0pop, r_atten, icu_atten, max_doses, verbosity=1):\n",
    "    run_robot.prepare_optimization(basic_prm, cities_data, M, target, hammer_data, force_dif,\n",
    "        r0pop, r_atten, icu_atten, max_doses, verbosity=verbosity)\n",
    "    run_robot.optimize_and_show_results(basic_prm, figure_file, result_file, cities_data, target, verbosity=verbosity)"
   ]
  },
  {
   "cell_type": "code",
   "execution_count": 6,
   "metadata": {
    "collapsed": true,
    "jupyter": {
     "outputs_hidden": true,
     "source_hidden": true
    },
    "tags": []
   },
   "outputs": [
    {
     "output_type": "stream",
     "name": "stdout",
     "text": [
      "Checking if initial hammer is long enough...\n\nNumber of iterations: 3\nTotal time: 0.13500057405326515 s\n\nHammer data\n    duration  level\nSP        28    1.0\nChecking if initial hammer is long enough... Ok!\n"
     ]
    },
    {
     "output_type": "execute_result",
     "data": {
      "text/plain": [
       "     SP  out\n",
       "SP  0.0  0.0"
      ],
      "text/html": "<div>\n<style scoped>\n    .dataframe tbody tr th:only-of-type {\n        vertical-align: middle;\n    }\n\n    .dataframe tbody tr th {\n        vertical-align: top;\n    }\n\n    .dataframe thead th {\n        text-align: right;\n    }\n</style>\n<table border=\"1\" class=\"dataframe\">\n  <thead>\n    <tr style=\"text-align: right;\">\n      <th></th>\n      <th>SP</th>\n      <th>out</th>\n    </tr>\n  </thead>\n  <tbody>\n    <tr>\n      <th>SP</th>\n      <td>0.0</td>\n      <td>0.0</td>\n    </tr>\n  </tbody>\n</table>\n</div>"
     },
     "metadata": {},
     "execution_count": 6
    }
   ],
   "source": [
    "# Define mobility matrix.\n",
    "M = prepare_data.convert_mobility_matrix_and_save(cities_data, max_neighbors=5, drs=\"data/report_drs_mobility.csv\")\n",
    "hammer_data = prepare_data.save_hammer_data(cities_data, 0, basic_prm[\"min_level\"])\n",
    "run_robot.find_feasible_hammer(basic_prm, cities_data, M, target, hammer_data, out_file=None, \n",
    "    incr_all=True, verbosity=1)\n",
    "M"
   ]
  },
  {
   "cell_type": "code",
   "execution_count": 7,
   "metadata": {},
   "outputs": [],
   "source": [
    "import warnings\n",
    "warnings.simplefilter(action='ignore', category=FutureWarning)\n",
    "\n",
    "def agregate(solution, labels):\n",
    "    values = solution.loc[labels[0]].sum()\n",
    "    for i in range(1, len(labels)):\n",
    "        values += solution.loc[labels[i]].sum()\n",
    "    return values\n",
    "\n",
    "def retrieve_vaccination_profile(sol, pop=0, dose=0):\n",
    "    sol = sol.loc[:, pop, :]\n",
    "    seir = sol.loc[\"s\", :] + sol.loc[\"e\", :] + sol.loc[\"i\", :] + sol.loc[\"r\", :]\n",
    "    applied = sol.loc[\"v\", dose]*seir.loc[dose]\n",
    "    return applied[14:]"
   ]
  },
  {
   "source": [
    "## With vaccination blocking infections"
   ],
   "cell_type": "markdown",
   "metadata": {}
  },
  {
   "cell_type": "code",
   "execution_count": 8,
   "metadata": {},
   "outputs": [
    {
     "output_type": "stream",
     "name": "stdout",
     "text": [
      "******************** Running vaccine simulation\n",
      "Solving Robot-dance...\n",
      "Solving Robot-dance... Ok!\n",
      "Saving output files...\n",
      "Saving output files... Ok!\n",
      "[(1.0, 0.020899676687428675)]\n",
      "Solving Robot-dance...\n",
      "Solving Robot-dance... Ok!\n",
      "Saving output files...\n",
      "Saving output files... Ok!\n",
      "[(1.0, 0.020899676687428675), (1.1, 9.556272111341729e-08)]\n",
      "Solving Robot-dance...\n",
      "Solving Robot-dance... Ok!\n",
      "Saving output files...\n",
      "Saving output files... Ok!\n",
      "[(1.0, 0.020899676687428675), (1.1, 9.556272111341729e-08), (1.2, 1.721397576756147e-07)]\n",
      "Solving Robot-dance...\n",
      "***** WARNING: Optimization was not sucessful - double check the model and the solution\n",
      "Solving Robot-dance... Ok!\n",
      "Saving output files...\n",
      "Saving output files... Ok!\n",
      "[(1.0, 0.020899676687428675), (1.1, 9.556272111341729e-08), (1.2, 1.721397576756147e-07), (1.3, 3.2769395310084714e-07)]\n",
      "Solving Robot-dance...\n",
      "Solving Robot-dance... Ok!\n",
      "Saving output files...\n",
      "Saving output files... Ok!\n",
      "[(1.0, 0.020899676687428675), (1.1, 9.556272111341729e-08), (1.2, 1.721397576756147e-07), (1.3, 3.2769395310084714e-07), (1.4, 0.015765553052657456)]\n",
      "Solving Robot-dance...\n",
      "Solving Robot-dance... Ok!\n",
      "Saving output files...\n",
      "Saving output files... Ok!\n",
      "[(1.0, 0.020899676687428675), (1.1, 9.556272111341729e-08), (1.2, 1.721397576756147e-07), (1.3, 3.2769395310084714e-07), (1.4, 0.015765553052657456), (1.5, 0.039288338450283795)]\n",
      "Solving Robot-dance...\n",
      "Solving Robot-dance... Ok!\n",
      "Saving output files...\n",
      "Saving output files... Ok!\n",
      "[(1.0, 0.020899676687428675), (1.1, 9.556272111341729e-08), (1.2, 1.721397576756147e-07), (1.3, 3.2769395310084714e-07), (1.4, 0.015765553052657456), (1.5, 0.039288338450283795), (1.6, 0.05965231081493386)]\n",
      "Solving Robot-dance...\n",
      "***** WARNING: Optimization was not sucessful - double check the model and the solution\n",
      "Solving Robot-dance... Ok!\n",
      "Saving output files...\n",
      "Saving output files... Ok!\n",
      "[(1.0, 0.020899676687428675), (1.1, 9.556272111341729e-08), (1.2, 1.721397576756147e-07), (1.3, 3.2769395310084714e-07), (1.4, 0.015765553052657456), (1.5, 0.039288338450283795), (1.6, 0.05965231081493386), (1.7000000000000002, 0.06144245449241777)]\n",
      "Solving Robot-dance...\n",
      "Solving Robot-dance... Ok!\n",
      "Saving output files...\n",
      "Saving output files... Ok!\n",
      "[(1.0, 0.020899676687428675), (1.1, 9.556272111341729e-08), (1.2, 1.721397576756147e-07), (1.3, 3.2769395310084714e-07), (1.4, 0.015765553052657456), (1.5, 0.039288338450283795), (1.6, 0.05965231081493386), (1.7000000000000002, 0.06144245449241777), (1.8, 0.06086764972733617)]\n",
      "Solving Robot-dance...\n",
      "Solving Robot-dance... Ok!\n",
      "Saving output files...\n",
      "Saving output files... Ok!\n",
      "[(1.0, 0.020899676687428675), (1.1, 9.556272111341729e-08), (1.2, 1.721397576756147e-07), (1.3, 3.2769395310084714e-07), (1.4, 0.015765553052657456), (1.5, 0.039288338450283795), (1.6, 0.05965231081493386), (1.7000000000000002, 0.06144245449241777), (1.8, 0.06086764972733617), (1.9, 0.06602638154189602)]\n",
      "Solving Robot-dance...\n",
      "Solving Robot-dance... Ok!\n",
      "Saving output files...\n",
      "Saving output files... Ok!\n",
      "[(1.0, 0.020899676687428675), (1.1, 9.556272111341729e-08), (1.2, 1.721397576756147e-07), (1.3, 3.2769395310084714e-07), (1.4, 0.015765553052657456), (1.5, 0.039288338450283795), (1.6, 0.05965231081493386), (1.7000000000000002, 0.06144245449241777), (1.8, 0.06086764972733617), (1.9, 0.06602638154189602), (2.0, 0.06840607801706543)]\n"
     ]
    }
   ],
   "source": [
    "print(\"******************** Running vaccine simulation\")\n",
    "icu_atten = [1.0, 1.0, 1.0]\n",
    "r_atten = [1.0, 0.24, 0.176]\n",
    "max_doses[0:30] = 0.001\n",
    "bins = [[0, 19], [20, 49], [50, 64], [65, 200]]\n",
    "colors = [\"C0\", \"C1\", \"C2\", \"C3\"]\n",
    "\n",
    "basic_prm[\"alternate\"] = 0.0\n",
    "doses_in_42 = []\n",
    "for r0factor in np.linspace(1.0, 2.0, 11):\n",
    "    r0pop = [1.0, r0factor, 1.0, 1.0]\n",
    "    result_file = f\"results/r0_sensitivity_infection_{r0factor:.1f}.csv\"\n",
    "    figure_file = f\"\"\n",
    "    run_a_test(basic_prm, result_file, figure_file, cities_data, M, target, force_dif, r0pop, r_atten, icu_atten, max_doses)\n",
    "\n",
    "    solution = pd.read_csv(result_file, index_col=[0, 1, 2])\n",
    "    dose0 = retrieve_vaccination_profile(solution, 1, 0)\n",
    "    dose1 = retrieve_vaccination_profile(solution, 1, 1)\n",
    "    dose_in_42 = (dose0 + dose1)[:42].sum()\n",
    "    doses_in_42.append((r0factor, dose_in_42))\n",
    "    print(doses_in_42)"
   ]
  },
  {
   "cell_type": "code",
   "execution_count": 9,
   "metadata": {},
   "outputs": [],
   "source": [
    "## Vaccine blocking infection and with 0.5% from day 1"
   ]
  },
  {
   "cell_type": "code",
   "execution_count": null,
   "metadata": {},
   "outputs": [],
   "source": [
    "print(\"******************** Running vaccine simulation\")\n",
    "icu_atten = [1.0, 1.0, 1.0]\n",
    "r_atten = [1.0, 0.24, 0.176]\n",
    "max_doses[0:30] = 0.005\n",
    "bins = [[0, 19], [20, 49], [50, 64], [65, 200]]\n",
    "colors = [\"C0\", \"C1\", \"C2\", \"C3\"]\n",
    "\n",
    "basic_prm[\"alternate\"] = 0.0\n",
    "doses_in_42 = []\n",
    "for r0factor in np.linspace(1.0, 2.0, 11):\n",
    "    r0pop = [1.0, r0factor, 1.0, 1.0]\n",
    "    result_file = f\"results/r0_sensitivity_infection_more_doses_{r0factor:.1f}.csv\"\n",
    "    figure_file = f\"\"\n",
    "    run_a_test(basic_prm, result_file, figure_file, cities_data, M, target, force_dif, r0pop, r_atten, icu_atten, max_doses)\n",
    "\n",
    "    solution = pd.read_csv(result_file, index_col=[0, 1, 2])\n",
    "    dose0 = retrieve_vaccination_profile(solution, 1, 0)\n",
    "    dose1 = retrieve_vaccination_profile(solution, 1, 1)\n",
    "    dose_in_42 = (dose0 + dose1)[:42].sum()\n",
    "    doses_in_42.append((r0factor, dose_in_42))\n",
    "    print(doses_in_42)"
   ]
  },
  {
   "cell_type": "code",
   "execution_count": null,
   "metadata": {},
   "outputs": [],
   "source": []
  }
 ],
 "metadata": {
  "celltoolbar": "Edit Metadata",
  "kernelspec": {
   "display_name": "Python 3",
   "language": "python",
   "name": "python3"
  },
  "language_info": {
   "codemirror_mode": {
    "name": "ipython",
    "version": 3
   },
   "file_extension": ".py",
   "mimetype": "text/x-python",
   "name": "python",
   "nbconvert_exporter": "python",
   "pygments_lexer": "ipython3",
   "version": "3.7.9-final"
  }
 },
 "nbformat": 4,
 "nbformat_minor": 4
}