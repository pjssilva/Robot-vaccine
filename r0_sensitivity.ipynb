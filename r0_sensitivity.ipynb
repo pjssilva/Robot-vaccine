{
 "cells": [
  {
   "cell_type": "markdown",
   "metadata": {},
   "source": [
    "# R0 factor sensitivity for Robot Vaccine: SP"
   ]
  },
  {
   "cell_type": "code",
   "execution_count": null,
   "metadata": {
    "collapsed": true,
    "hide": true,
    "jupyter": {
     "outputs_hidden": true,
     "source_hidden": true
    },
    "tags": []
   },
   "outputs": [],
   "source": [
    "import os\n",
    "import pandas as pd\n",
    "import numpy as np\n",
    "import datetime\n",
    "import itertools\n",
    "import matplotlib.pylab as plt\n",
    "from matplotlib import rc\n",
    "rc(\"text\", usetex=True)\n",
    "rc(\"font\", family=\"serif\")\n",
    "\n",
    "import run_robot\n",
    "import prepare_data\n",
    "from importlib import reload\n",
    "reload(prepare_data)\n",
    "reload(run_robot)"
   ]
  },
  {
   "cell_type": "code",
   "execution_count": null,
   "metadata": {
    "collapsed": true,
    "jupyter": {
     "outputs_hidden": true,
     "source_hidden": true
    },
    "tags": []
   },
   "outputs": [],
   "source": [
    "# Define the basic data for the case studies\n",
    "\n",
    "# Mean incubation time\n",
    "tinc = 5.2\n",
    "\n",
    "# Mean inffectious time\n",
    "tinf = 2.9\n",
    "\n",
    "# Basic reproduction number\n",
    "basic_rep = 2.5\n",
    "\n",
    "# Lockdown level\n",
    "lock_level = 1.0\n",
    "\n",
    "# Simulation horizon\n",
    "# A little more than a year when thevaccine should be here\n",
    "ndays = 7*52\n",
    "\n",
    "# Mean time in ICU\n",
    "time_icu = 7\n",
    "\n",
    "# Transmission/infection effect of the vaccine \n",
    "r_atten = [1.0, 0.24, 0.176]\n",
    "\n",
    "# Symptoms effect of the vaccine\n",
    "icu_atten = [1.0, 1.0, 1.0]\n",
    "\n",
    "# R0 factor for each population\n",
    "r0pop = [1.0, 1.3, 1.0, 1.0]\n",
    "\n",
    "# Max dose profile\n",
    "max_doses = 0.015*np.ones(ndays)\n",
    "max_doses[0:30] = 0.001\n",
    "max_doses[30:150] = 0.005\n",
    "\n",
    "# Define basic paramters\n",
    "basic_prm = prepare_data.save_basic_parameters(tinc=tinc, tinf=tinf, rep=basic_rep, min_level=lock_level,\n",
    "    time_icu=time_icu, alternate=0, window=14, ndays=ndays)\n",
    "\n",
    "pre_cities_data = {\n",
    "    \"S1\": [0.685], \n",
    "    \"E1\": [0.01], \n",
    "    \"I1\": [0.006], \n",
    "    \"R1\": [0.299], \n",
    "    \"population\": [44639899], \n",
    "    \"icu_capacity\": [0.000175], \n",
    "    \"start_date\": [pd.to_datetime(\"2020-2-1\")]\n",
    "}\n",
    "cities_data = pd.DataFrame(pre_cities_data, index=[\"SP\"])\n",
    "cities_data"
   ]
  },
  {
   "cell_type": "code",
   "execution_count": null,
   "metadata": {
    "jupyter": {
     "source_hidden": true
    }
   },
   "outputs": [],
   "source": [
    "# Create a target matrix (max infected level)\n",
    "ncities, ndays = len(cities_data.index), int(basic_prm[\"ndays\"])\n",
    "target = 0.8*np.ones((ncities, ndays))\n",
    "target = prepare_data.save_target(cities_data, target)\n",
    "\n",
    "# Use a forcedif that releases the cities in the end\n",
    "force_dif = np.zeros((ncities, ndays))"
   ]
  },
  {
   "cell_type": "code",
   "execution_count": null,
   "metadata": {
    "collapsed": true,
    "jupyter": {
     "outputs_hidden": true,
     "source_hidden": true
    }
   },
   "outputs": [],
   "source": [
    "# Add information on the time series that estimate the need of ICUs\n",
    "# We are using the time series adjusted considering that the mean ICU stay is 7 days (which lead to larger ICU capacity).\n",
    "\n",
    "# Define the time series to estimate ICU demand\n",
    "ts_sp = np.array([0.009, 0.015, 0.492, 0.0, 0.0, 0.0, 0.083, 0.011, 0.011])\n",
    "\n",
    "ts_drs = ts_sp*np.ones((len(cities_data), len(ts_sp)))\n",
    "ts_drs = pd.DataFrame(data=ts_drs, index=cities_data.index, columns=[\n",
    "    \"rho_min\", \"rho_max\", \"intercept\", \"trend\", \"phi_1\", \"phi_2\", \"sigma_omega\", \"state0\", \"state_less_1\"\n",
    "])\n",
    "ts_drs[\"confidence\"] = 0.9\n",
    "ts_drs[\"time_icu\"] = time_icu\n",
    "cities_data = pd.concat([cities_data, ts_drs], axis=1)\n",
    "cities_data"
   ]
  },
  {
   "cell_type": "code",
   "execution_count": null,
   "metadata": {
    "jupyter": {
     "source_hidden": true
    }
   },
   "outputs": [],
   "source": [
    "pd.set_option(\"display.width\", 120)\n",
    "\n",
    "# Simple function to run a test and save results\n",
    "def run_a_test(basic_prm, result_file, figure_file, cities_data, M, target, force_dif, r0pop, r_atten, icu_atten, max_doses, verbosity=1):\n",
    "    run_robot.prepare_optimization(basic_prm, cities_data, M, target, hammer_data, force_dif,\n",
    "        r0pop, r_atten, icu_atten, max_doses, verbosity=verbosity)\n",
    "    run_robot.optimize_and_show_results(basic_prm, figure_file, result_file, cities_data, target, verbosity=verbosity)"
   ]
  },
  {
   "cell_type": "code",
   "execution_count": null,
   "metadata": {
    "collapsed": true,
    "jupyter": {
     "outputs_hidden": true,
     "source_hidden": true
    },
    "tags": []
   },
   "outputs": [],
   "source": [
    "# Define mobility matrix.\n",
    "M = prepare_data.convert_mobility_matrix_and_save(cities_data, max_neighbors=5, drs=\"data/report_drs_mobility.csv\")\n",
    "hammer_data = prepare_data.save_hammer_data(cities_data, 0, basic_prm[\"min_level\"])\n",
    "run_robot.find_feasible_hammer(basic_prm, cities_data, M, target, hammer_data, out_file=None, \n",
    "    incr_all=True, verbosity=1)\n",
    "M"
   ]
  },
  {
   "cell_type": "code",
   "execution_count": null,
   "metadata": {},
   "outputs": [],
   "source": [
    "import warnings\n",
    "warnings.simplefilter(action='ignore', category=FutureWarning)\n",
    "\n",
    "def agregate(solution, labels):\n",
    "    values = solution.loc[labels[0]].sum()\n",
    "    for i in range(1, len(labels)):\n",
    "        values += solution.loc[labels[i]].sum()\n",
    "    return values\n",
    "\n",
    "def retrieve_vaccination_profile(sol, pop=0, dose=0):\n",
    "    sol = sol.loc[:, pop, :]\n",
    "    seir = sol.loc[\"s\", :] + sol.loc[\"e\", :] + sol.loc[\"i\", :] + sol.loc[\"r\", :]\n",
    "    applied = sol.loc[\"v\", dose]*seir.loc[dose]\n",
    "    return applied[14:]"
   ]
  },
  {
   "source": [
    "## With vaccination blocking infections"
   ],
   "cell_type": "markdown",
   "metadata": {}
  },
  {
   "cell_type": "code",
   "execution_count": null,
   "metadata": {},
   "outputs": [],
   "source": [
    "print(\"******************** Running vaccine simulation\")\n",
    "icu_atten = [1.0, 1.0, 1.0]\n",
    "r_atten = [1.0, 0.24, 0.176]\n",
    "max_doses[0:30] = 0.001\n",
    "bins = [[0, 19], [20, 49], [50, 64], [65, 200]]\n",
    "colors = [\"C0\", \"C1\", \"C2\", \"C3\"]\n",
    "\n",
    "basic_prm[\"alternate\"] = 0.0\n",
    "doses_in_42 = []\n",
    "for r0factor in np.linspace(1.0, 2.0, 11):\n",
    "    r0pop = [1.0, r0factor, 1.0, 1.0]\n",
    "    result_file = f\"results/r0_sensitivity_infection_{r0factor:.1f}.csv\"\n",
    "    figure_file = f\"\"\n",
    "    run_a_test(basic_prm, result_file, figure_file, cities_data, M, target, force_dif, r0pop, r_atten, icu_atten, max_doses)\n",
    "\n",
    "    solution = pd.read_csv(result_file, index_col=[0, 1, 2])\n",
    "    dose0 = retrieve_vaccination_profile(solution, 1, 0)\n",
    "    dose1 = retrieve_vaccination_profile(solution, 1, 1)\n",
    "    dose_in_42 = (dose0 + dose1)[:42].sum()\n",
    "    doses_in_42.append((r0factor, dose_in_42))\n",
    "    print(doses_in_42)"
   ]
  },
  {
   "cell_type": "code",
   "execution_count": null,
   "metadata": {},
   "outputs": [],
   "source": [
    "doses_in_42 = np.array(doses_in_42).T\n",
    "plt.plot(doses_in_42[0], doses_in_42[1], lw=3, marker=\"o\")\n",
    "plt.xlabel(\"R0 factor\")\n",
    "plt.ylabel(\"Doses in first 42 days\")\n",
    "plt.title(\"Doses 20+ with respect to R0\")\n",
    "plt.savefig(\"results/r0_sensitivity.png\")"
   ]
  },
  {
   "cell_type": "code",
   "execution_count": null,
   "metadata": {},
   "outputs": [],
   "source": [
    "## Vaccine blocking infection and with 0.5% from day 1"
   ]
  },
  {
   "cell_type": "code",
   "execution_count": null,
   "metadata": {},
   "outputs": [],
   "source": [
    "print(\"******************** Running vaccine simulation\")\n",
    "icu_atten = [1.0, 1.0, 1.0]\n",
    "r_atten = [1.0, 0.24, 0.176]\n",
    "max_doses[0:30] = 0.005\n",
    "bins = [[0, 19], [20, 49], [50, 64], [65, 200]]\n",
    "colors = [\"C0\", \"C1\", \"C2\", \"C3\"]\n",
    "\n",
    "basic_prm[\"alternate\"] = 0.0\n",
    "doses_in_42 = []\n",
    "for r0factor in np.linspace(1.0, 2.0, 11):\n",
    "    r0pop = [1.0, r0factor, 1.0, 1.0]\n",
    "    result_file = f\"results/r0_sensitivity_infection_more_doses_{r0factor:.1f}.csv\"\n",
    "    figure_file = f\"\"\n",
    "    run_a_test(basic_prm, result_file, figure_file, cities_data, M, target, force_dif, r0pop, r_atten, icu_atten, max_doses)\n",
    "\n",
    "    solution = pd.read_csv(result_file, index_col=[0, 1, 2])\n",
    "    dose0 = retrieve_vaccination_profile(solution, 1, 0)\n",
    "    dose1 = retrieve_vaccination_profile(solution, 1, 1)\n",
    "    dose_in_42 = (dose0 + dose1)[:42].sum()\n",
    "    doses_in_42.append((r0factor, dose_in_42))\n",
    "    print(doses_in_42)"
   ]
  },
  {
   "cell_type": "code",
   "execution_count": null,
   "metadata": {},
   "outputs": [],
   "source": [
    "doses_in_42 = np.array(doses_in_42).T\n",
    "plt.plot(doses_in_42[0], doses_in_42[1], lw=3, marker=\"o\")\n",
    "plt.xlabel(\"R0 factor\")\n",
    "plt.ylabel(\"Doses in first 42 days\")\n",
    "plt.title(\"Doses 20+ with respect to R0\")\n",
    "plt.savefig(\"results/r0_sensitivity_more_doses.png\")"
   ]
  }
 ],
 "metadata": {
  "celltoolbar": "Edit Metadata",
  "kernelspec": {
   "display_name": "Python 3",
   "language": "python",
   "name": "python3"
  },
  "language_info": {
   "codemirror_mode": {
    "name": "ipython",
    "version": 3
   },
   "file_extension": ".py",
   "mimetype": "text/x-python",
   "name": "python",
   "nbconvert_exporter": "python",
   "pygments_lexer": "ipython3",
   "version": "3.7.9-final"
  }
 },
 "nbformat": 4,
 "nbformat_minor": 4
}